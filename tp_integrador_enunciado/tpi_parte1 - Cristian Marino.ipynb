{
 "cells": [
  {
   "cell_type": "markdown",
   "id": "07289bb0",
   "metadata": {},
   "source": [
    "# Trabajo integrador - Parte 1\n",
    "## Python y Numpy\n",
    "\n",
    "**Nombre**:"
   ]
  },
  {
   "cell_type": "code",
   "execution_count": 1,
   "id": "aaf94e0a",
   "metadata": {
    "id": "aaf94e0a"
   },
   "outputs": [],
   "source": [
    "import numpy as np\n",
    "import math"
   ]
  },
  {
   "cell_type": "markdown",
   "id": "0ffe9554",
   "metadata": {},
   "source": [
    "## Ejercicio 1\n",
    "\n",
    "Dada una matriz en formato *numpy array*, donde cada fila de la matriz representa un vector matemático, se requiere computar las normas $l_0$, $l_1$, $l_2$, $l_{\\infty}$, según la siguientes definiciones:\n",
    "\n",
    "\\begin{equation}\n",
    "    ||\\mathbf{x}||^{p} = \\bigg(\\sum_{j=1}^{n}{|x_i|^p}\\bigg)^{\\frac{1}{p}}\n",
    "\\end{equation}\n",
    "\n",
    "con los casos especiales para $p=0$ y $p=\\infty$ siendo:\n",
    "\n",
    "\\begin{equation}\n",
    "    \\begin{array}{rcl}\n",
    "        ||\\mathbf{x}||_0 & = & \\bigg(\\sum_{j=1 \\wedge x_j != 0}{|x_i|}\\bigg)\\\\\n",
    "        ||\\mathbf{x}||_{\\infty} & = & \\max_{i}{|x_i|}\\\\\n",
    "    \\end{array}\n",
    "\\end{equation}"
   ]
  },
  {
   "cell_type": "code",
   "execution_count": 2,
   "id": "0bdb0ee3",
   "metadata": {},
   "outputs": [],
   "source": [
    "#Hecho como función\n",
    "\n",
    "def normalp (vector,p):\n",
    "    if p == 0:\n",
    "        return len(vector[vector!=0])\n",
    "    if p == \"infinity\" or \"infinity\" or \"Infinito\" or \"infinito\" or math.inf:\n",
    "         return np.max(np.absolute(matrix_A))\n",
    "    else:    \n",
    "        absolute_vector=np.absolute(vector)\n",
    "        to_the_p=absolute_vector**p\n",
    "        sum1=np.sum(to_the_p)\n",
    "        sum1_p_root=sum1**(1/p)\n",
    "        return sum1_p_root"
   ]
  },
  {
   "cell_type": "code",
   "execution_count": 3,
   "id": "a1da1054",
   "metadata": {},
   "outputs": [],
   "source": [
    "matrix_A= np.array([[-2,-4,2],[-2,1,2],[4,2,5]])"
   ]
  },
  {
   "cell_type": "code",
   "execution_count": 4,
   "id": "a4e29dc2",
   "metadata": {},
   "outputs": [
    {
     "data": {
      "text/plain": [
       "9"
      ]
     },
     "execution_count": 4,
     "metadata": {},
     "output_type": "execute_result"
    }
   ],
   "source": [
    "normalp (matrix_A,0)"
   ]
  },
  {
   "cell_type": "code",
   "execution_count": 5,
   "id": "511d920d",
   "metadata": {},
   "outputs": [
    {
     "data": {
      "text/plain": [
       "5"
      ]
     },
     "execution_count": 5,
     "metadata": {},
     "output_type": "execute_result"
    }
   ],
   "source": [
    "normalp(matrix_A,\"infinity\")"
   ]
  },
  {
   "cell_type": "code",
   "execution_count": 6,
   "id": "d73cbd79",
   "metadata": {},
   "outputs": [
    {
     "data": {
      "text/plain": [
       "5"
      ]
     },
     "execution_count": 6,
     "metadata": {},
     "output_type": "execute_result"
    }
   ],
   "source": [
    "normalp(matrix_A,2)"
   ]
  },
  {
   "cell_type": "code",
   "execution_count": 7,
   "id": "25a6470f",
   "metadata": {},
   "outputs": [
    {
     "data": {
      "text/plain": [
       "5"
      ]
     },
     "execution_count": 7,
     "metadata": {},
     "output_type": "execute_result"
    }
   ],
   "source": [
    "normalp(matrix_A,math.inf)"
   ]
  },
  {
   "cell_type": "markdown",
   "id": "dd66d862",
   "metadata": {},
   "source": [
    "## Ejercicio 2\n",
    "\n",
    "En clasificación contamos con dos arreglos, la “verdad” y la “predicción”. Cada elemento de los arreglos pueden tomar dos valores, “True” (representado por 1) y “False” (representado por 0). Entonces podemos definir 4 variables:\n",
    "\n",
    "* True Positive (TP): El valor verdadero es 1 y el valor predicho es 1\n",
    "* True Negative (TN): El valor verdadero es 0 y el valor predicho es 0\n",
    "* False Positive (FP): El valor verdadero es 0 y el valor predicho es 1\n",
    "* False Negative (FN): El valor verdadero es 1 y el valor predicho es 0\n",
    "\n",
    "A partir de esto definimos:\n",
    "\n",
    "* Precision = TP / (TP + FP)\n",
    "* Recall = TP / (TP + FN)\n",
    "* Accuracy = (TP + TN) / (TP + TN + FP + FN)\n",
    " \n",
    "Calcular las 3 métricas con Numpy y operaciones vectorizadas."
   ]
  },
  {
   "cell_type": "code",
   "execution_count": 8,
   "id": "579c26d4",
   "metadata": {},
   "outputs": [],
   "source": [
    "def classification_metrics (verdad, prediccion):\n",
    "    TP, TN, FP, FN = 0, 0, 0, 0\n",
    "\n",
    "    with np.nditer([verdad, prediccion], flags=['multi_index'], op_flags=['readonly', 'readonly']) as i:\n",
    "        for true, predicted in i:\n",
    "            if true == 1 and predicted == 1:\n",
    "                TP += 1\n",
    "            elif true == 0 and predicted == 0:\n",
    "                TN += 1\n",
    "            elif true == 0 and predicted == 1:\n",
    "                FP += 1\n",
    "            elif true == 1 and predicted == 0:\n",
    "                FN += 1\n",
    "\n",
    "    precision = TP / (TP + FP)\n",
    "    recall = TP / (TP + FN)\n",
    "    accuracy = (TP + TN) / (TP + TN + FP + FN)\n",
    "    \n",
    "    print(\"Precision:\", precision)\n",
    "    print(\"Recall:\", recall)\n",
    "    print(\"Accuracy:\", accuracy)\n",
    "    "
   ]
  },
  {
   "cell_type": "code",
   "execution_count": 9,
   "id": "794dcd58",
   "metadata": {},
   "outputs": [],
   "source": [
    "truth = np.array([1,1,0,1,1,1,0,0,0,1])\n",
    "prediction = np.array([1,1,1,1,0,0,1,1,0,0])"
   ]
  },
  {
   "cell_type": "code",
   "execution_count": 10,
   "id": "7a2e42e3",
   "metadata": {},
   "outputs": [
    {
     "name": "stdout",
     "output_type": "stream",
     "text": [
      "Precision: 0.5\n",
      "Recall: 0.5\n",
      "Accuracy: 0.4\n"
     ]
    }
   ],
   "source": [
    "classification_metrics (truth, prediction)"
   ]
  },
  {
   "cell_type": "markdown",
   "id": "d0ac6f6f",
   "metadata": {},
   "source": [
    "## Ejercicio 3\n",
    "\n",
    "Crear una función que separe los datos en train-validation-test. Debe recibir de parametros:\n",
    "\n",
    "- X: Array o Dataframe que contiene los datos de entrada del sistema.\n",
    "- y: Array o Dataframe que contiene la(s) variable(s) target del problema.\n",
    "- train_percentage: _float_ el porcentaje de training.\n",
    "- test_percentage: _float_ el porcentaje de testing.\n",
    "- val_percentage: _float_ el porcentaje de validación.\n",
    "- shuffle: _bool_ determina si el split debe hacerse de manera random o no.\n",
    "\n",
    "Hints: \n",
    "\n",
    "* Usar Indexing y slicing\n",
    "* Usar np.random.[...]"
   ]
  },
  {
   "cell_type": "code",
   "execution_count": 26,
   "id": "ca85fc66",
   "metadata": {},
   "outputs": [],
   "source": [
    "def split(X_input,\n",
    "          Y_input,\n",
    "          train_size=0.7,\n",
    "          val_size=0.15,\n",
    "          test_size=0.15,\n",
    "          random_state=42,\n",
    "          shuffle=True):\n",
    "    if train_size + val_size + test_size != 1.0:\n",
    "        return \"Los porcentajes deben sumar 1.0 (100%).\"\n",
    "    \n",
    "    if shuffle:\n",
    "        np.random.seed(random_state)\n",
    "        indices = np.random.permutation(len(X_input))\n",
    "    else:\n",
    "        indices = np.arange(len(X_input))\n",
    "    \n",
    "    \n",
    "    train_count = int(train_size * len(X_input))\n",
    "    val_count = int(val_size * len(X_input))\n",
    "    \n",
    "    train_indices = indices[:train_count]\n",
    "    val_indices = indices[train_count:train_count + val_count]\n",
    "    test_indices = indices[train_count + val_count:]\n",
    "    \n",
    "    X_train = X_input[train_indices]\n",
    "    Y_train = Y_input[train_indices]\n",
    "    \n",
    "    X_val = X_input[val_indices]\n",
    "    Y_val = Y_input[val_indices]\n",
    "    \n",
    "    X_test = X_input[test_indices]\n",
    "    Y_test = Y_input[test_indices]\n",
    "    \n",
    "    \n",
    "    return X_train, Y_train, X_val, Y_val, X_test, Y_test, indices\n",
    "\n",
    "#retorno indices solo para verificar abajo que el código funciona, no debería ir. \n",
    "#No entiendo qué es return notimplementederror, lo googleé y me dice que es para POO cuando necesitás\n",
    "#una subclase en un método de una clase."
   ]
  },
  {
   "cell_type": "code",
   "execution_count": 27,
   "id": "fd537c36",
   "metadata": {},
   "outputs": [],
   "source": [
    "X = np.array([1, 2, 3, 4, 5, 6, 7, 8, 9, 10])\n",
    "y = np.array([0, 1, 0, 1, 0, 1, 0, 1, 0, 1])"
   ]
  },
  {
   "cell_type": "code",
   "execution_count": 28,
   "id": "0b18123e",
   "metadata": {},
   "outputs": [
    {
     "data": {
      "text/plain": [
       "(array([ 9,  2,  6,  1,  8,  3, 10]),\n",
       " array([0, 1, 1, 0, 1, 0, 1]),\n",
       " array([5]),\n",
       " array([0]),\n",
       " array([4, 7]),\n",
       " array([1, 0]),\n",
       " array([8, 1, 5, 0, 7, 2, 9, 4, 3, 6]))"
      ]
     },
     "execution_count": 28,
     "metadata": {},
     "output_type": "execute_result"
    }
   ],
   "source": [
    "split(X,y)"
   ]
  },
  {
   "cell_type": "code",
   "execution_count": 29,
   "id": "e6c74751",
   "metadata": {},
   "outputs": [
    {
     "data": {
      "text/plain": [
       "(array([1, 2, 3, 4, 5, 6, 7]),\n",
       " array([0, 1, 0, 1, 0, 1, 0]),\n",
       " array([8]),\n",
       " array([1]),\n",
       " array([ 9, 10]),\n",
       " array([0, 1]),\n",
       " array([0, 1, 2, 3, 4, 5, 6, 7, 8, 9]))"
      ]
     },
     "execution_count": 29,
     "metadata": {},
     "output_type": "execute_result"
    }
   ],
   "source": [
    "split(X,y, shuffle=False)"
   ]
  },
  {
   "cell_type": "code",
   "execution_count": null,
   "id": "4a2fa8a2",
   "metadata": {},
   "outputs": [],
   "source": []
  }
 ],
 "metadata": {
  "colab": {
   "collapsed_sections": [],
   "name": "Practica_clase_3.ipynb",
   "provenance": []
  },
  "kernelspec": {
   "display_name": "Python 3 (ipykernel)",
   "language": "python",
   "name": "python3"
  },
  "language_info": {
   "codemirror_mode": {
    "name": "ipython",
    "version": 3
   },
   "file_extension": ".py",
   "mimetype": "text/x-python",
   "name": "python",
   "nbconvert_exporter": "python",
   "pygments_lexer": "ipython3",
   "version": "3.11.4"
  },
  "vscode": {
   "interpreter": {
    "hash": "b5c22da4a52024410f64f9c5a5e2b4ffeeb944a5ed00e8825a42174cdab30315"
   }
  }
 },
 "nbformat": 4,
 "nbformat_minor": 5
}
