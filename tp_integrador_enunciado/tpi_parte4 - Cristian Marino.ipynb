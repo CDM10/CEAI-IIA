{
 "cells": [
  {
   "cell_type": "markdown",
   "id": "27719223",
   "metadata": {},
   "source": [
    "# Trabajo Integrador Parte 4\n",
    "\n",
    "Nombre:"
   ]
  },
  {
   "cell_type": "markdown",
   "id": "461d011d",
   "metadata": {},
   "source": [
    "Dentro de la carpeta de `data/` vamos a poder encontrar 3 datasets:\n",
    "\n",
    "- Pokemon (Problema de clasificacion Binaria): La intención es tratar de predecir si basada en la información que tenemos podemos estimar si la carta que estamos viendo es Legendaria o no (Booleano).\n",
    "- Heart Disease (Problema de clasificacion Binaria): A partir de este dataset vamos a tratar de determinar si una persona basado en ciertos datos tiene asociado una enfermedad cardiaca.\n",
    "- Challenger USA Space Shuttle O-Ring Data Set (Regresion multivariada): En este dataset encontramos información sobre varios despegues del space shuttle, la intención de este problema es tratar de predecir cuanto será la cantidad de O-Rings que fallan dadas las condiciones de despegue.\n",
    "\n",
    "> Para la presentación de sus trabajos prácticos **Elijan 1 de los 3 datasets**"
   ]
  },
  {
   "cell_type": "markdown",
   "id": "5a976dd3",
   "metadata": {},
   "source": [
    "# Importar librerías\n",
    "\n",
    "Importar aquellas librerías que serán utilizadas en el trabajo."
   ]
  },
  {
   "cell_type": "code",
   "execution_count": 99,
   "id": "845b6c50",
   "metadata": {},
   "outputs": [],
   "source": [
    "import numpy as np\n",
    "import pandas as pd\n",
    "import matplotlib.pyplot as plt\n",
    "import seaborn as sns\n",
    "\n",
    "from sklearn.preprocessing import StandardScaler\n",
    "from sklearn.decomposition import PCA\n",
    "\n",
    "from sklearn.linear_model import LogisticRegression, LogisticRegressionCV"
   ]
  },
  {
   "cell_type": "markdown",
   "id": "954111ce",
   "metadata": {},
   "source": [
    "# Cargar datos\n",
    "\n",
    "Cargar los datos de entrenamiento.\n",
    "\n",
    "Recordemos que para todos los datasets tenemos el archivo `columns.csv` que contiene el nombre y descripción de cada columna en el mismo orden que van a encontrar los datos.\n",
    "\n",
    "En los casos de datos con extensión  `*.data` vamos a tener que leerlo utilizando `pd.read_data('myfile.data', sep = ',', header = 0, names = my_cols)`\n",
    "\n",
    "De esta manera si quisieramos cargar datos por ejemplo de Nasa deberiamos poner algo asi\n",
    "\n",
    "\n",
    "```python\n",
    "## Importing python earlier\n",
    "\n",
    "my_cols = pd.read_csv('./data/nasa_orings/columns.csv').column.values.tolist()\n",
    "\n",
    "my_data = pd.read_csv('./data/nasa_orings/o-ring-erosion-or-blowby.data',\n",
    "                       delimiter=',',\n",
    "                       header=0,\n",
    "                       names = my_cols\n",
    "                    )\n",
    "```"
   ]
  },
  {
   "cell_type": "code",
   "execution_count": 100,
   "id": "26f41c45",
   "metadata": {},
   "outputs": [],
   "source": [
    "DATASET_PATH = \"./data/heart_disease/\""
   ]
  },
  {
   "cell_type": "code",
   "execution_count": 101,
   "id": "2757cd5f",
   "metadata": {},
   "outputs": [
    {
     "data": {
      "text/html": [
       "<div>\n",
       "<style scoped>\n",
       "    .dataframe tbody tr th:only-of-type {\n",
       "        vertical-align: middle;\n",
       "    }\n",
       "\n",
       "    .dataframe tbody tr th {\n",
       "        vertical-align: top;\n",
       "    }\n",
       "\n",
       "    .dataframe thead th {\n",
       "        text-align: right;\n",
       "    }\n",
       "</style>\n",
       "<table border=\"1\" class=\"dataframe\">\n",
       "  <thead>\n",
       "    <tr style=\"text-align: right;\">\n",
       "      <th></th>\n",
       "      <th>age</th>\n",
       "      <th>sex</th>\n",
       "      <th>cp</th>\n",
       "      <th>trestbps</th>\n",
       "      <th>chol</th>\n",
       "      <th>fbs</th>\n",
       "      <th>restecg</th>\n",
       "      <th>thalach</th>\n",
       "      <th>exang</th>\n",
       "      <th>oldpeak</th>\n",
       "      <th>slope</th>\n",
       "      <th>ca</th>\n",
       "      <th>thal</th>\n",
       "      <th>num</th>\n",
       "    </tr>\n",
       "  </thead>\n",
       "  <tbody>\n",
       "    <tr>\n",
       "      <th>0</th>\n",
       "      <td>67.0</td>\n",
       "      <td>1.0</td>\n",
       "      <td>4.0</td>\n",
       "      <td>160.0</td>\n",
       "      <td>286.0</td>\n",
       "      <td>0.0</td>\n",
       "      <td>2.0</td>\n",
       "      <td>108.0</td>\n",
       "      <td>1.0</td>\n",
       "      <td>1.5</td>\n",
       "      <td>2.0</td>\n",
       "      <td>3.0</td>\n",
       "      <td>3.0</td>\n",
       "      <td>2</td>\n",
       "    </tr>\n",
       "    <tr>\n",
       "      <th>1</th>\n",
       "      <td>67.0</td>\n",
       "      <td>1.0</td>\n",
       "      <td>4.0</td>\n",
       "      <td>120.0</td>\n",
       "      <td>229.0</td>\n",
       "      <td>0.0</td>\n",
       "      <td>2.0</td>\n",
       "      <td>129.0</td>\n",
       "      <td>1.0</td>\n",
       "      <td>2.6</td>\n",
       "      <td>2.0</td>\n",
       "      <td>2.0</td>\n",
       "      <td>7.0</td>\n",
       "      <td>1</td>\n",
       "    </tr>\n",
       "    <tr>\n",
       "      <th>2</th>\n",
       "      <td>37.0</td>\n",
       "      <td>1.0</td>\n",
       "      <td>3.0</td>\n",
       "      <td>130.0</td>\n",
       "      <td>250.0</td>\n",
       "      <td>0.0</td>\n",
       "      <td>0.0</td>\n",
       "      <td>187.0</td>\n",
       "      <td>0.0</td>\n",
       "      <td>3.5</td>\n",
       "      <td>3.0</td>\n",
       "      <td>0.0</td>\n",
       "      <td>3.0</td>\n",
       "      <td>0</td>\n",
       "    </tr>\n",
       "    <tr>\n",
       "      <th>3</th>\n",
       "      <td>41.0</td>\n",
       "      <td>0.0</td>\n",
       "      <td>2.0</td>\n",
       "      <td>130.0</td>\n",
       "      <td>204.0</td>\n",
       "      <td>0.0</td>\n",
       "      <td>2.0</td>\n",
       "      <td>172.0</td>\n",
       "      <td>0.0</td>\n",
       "      <td>1.4</td>\n",
       "      <td>1.0</td>\n",
       "      <td>0.0</td>\n",
       "      <td>3.0</td>\n",
       "      <td>0</td>\n",
       "    </tr>\n",
       "    <tr>\n",
       "      <th>4</th>\n",
       "      <td>56.0</td>\n",
       "      <td>1.0</td>\n",
       "      <td>2.0</td>\n",
       "      <td>120.0</td>\n",
       "      <td>236.0</td>\n",
       "      <td>0.0</td>\n",
       "      <td>0.0</td>\n",
       "      <td>178.0</td>\n",
       "      <td>0.0</td>\n",
       "      <td>0.8</td>\n",
       "      <td>1.0</td>\n",
       "      <td>0.0</td>\n",
       "      <td>3.0</td>\n",
       "      <td>0</td>\n",
       "    </tr>\n",
       "  </tbody>\n",
       "</table>\n",
       "</div>"
      ],
      "text/plain": [
       "    age  sex   cp  trestbps   chol  fbs  restecg  thalach  exang  oldpeak  \\\n",
       "0  67.0  1.0  4.0     160.0  286.0  0.0      2.0    108.0    1.0      1.5   \n",
       "1  67.0  1.0  4.0     120.0  229.0  0.0      2.0    129.0    1.0      2.6   \n",
       "2  37.0  1.0  3.0     130.0  250.0  0.0      0.0    187.0    0.0      3.5   \n",
       "3  41.0  0.0  2.0     130.0  204.0  0.0      2.0    172.0    0.0      1.4   \n",
       "4  56.0  1.0  2.0     120.0  236.0  0.0      0.0    178.0    0.0      0.8   \n",
       "\n",
       "   slope   ca thal  num  \n",
       "0    2.0  3.0  3.0    2  \n",
       "1    2.0  2.0  7.0    1  \n",
       "2    3.0  0.0  3.0    0  \n",
       "3    1.0  0.0  3.0    0  \n",
       "4    1.0  0.0  3.0    0  "
      ]
     },
     "execution_count": 101,
     "metadata": {},
     "output_type": "execute_result"
    }
   ],
   "source": [
    "my_cols = pd.read_csv(DATASET_PATH + 'columns.csv').column.values.tolist()\n",
    "\n",
    "my_data = pd.read_csv(DATASET_PATH + 'processed.cleveland.data',\n",
    "                       delimiter=',',\n",
    "                       header=0,\n",
    "                       names = my_cols\n",
    "                    )\n",
    "\n",
    "my_data.head()"
   ]
  },
  {
   "cell_type": "markdown",
   "id": "c93000bd",
   "metadata": {},
   "source": [
    "# Análisis exploratorio básico y preprocesamiento de los datos\n",
    "\n",
    "Análisis de los datos para conocer los mismos, ver datos faltantes, decidir cómo tratarlos, ver distribuciones, relaciones, etc. Procesar los datos centrándolos, reescalando, codificando, reduciendo dimensiones, etc. según considere necesario.\n",
    "\n",
    "Vamos a considerar:\n",
    "\n",
    "- Para escalar datos: `sklearn.preprocessing.StandardScaler()`\n",
    "- Para completar valores nulos: `sklearn.impute.SimpleImputer()` [Quickguide](https://scikit-learn.org/stable/modules/impute.html)\n",
    "- Para reduccion de dimensiones (sobre todo para visualizar los datos): PCA o [T-SNE](https://builtin.com/data-science/tsne-python) (Solo para visualización)\n",
    "- Para codificar variables categóricas: `sklearn.preprocessing.OneHotEncoder()`"
   ]
  },
  {
   "cell_type": "code",
   "execution_count": 102,
   "id": "5a97d401",
   "metadata": {},
   "outputs": [
    {
     "data": {
      "text/html": [
       "<div>\n",
       "<style scoped>\n",
       "    .dataframe tbody tr th:only-of-type {\n",
       "        vertical-align: middle;\n",
       "    }\n",
       "\n",
       "    .dataframe tbody tr th {\n",
       "        vertical-align: top;\n",
       "    }\n",
       "\n",
       "    .dataframe thead th {\n",
       "        text-align: right;\n",
       "    }\n",
       "</style>\n",
       "<table border=\"1\" class=\"dataframe\">\n",
       "  <thead>\n",
       "    <tr style=\"text-align: right;\">\n",
       "      <th></th>\n",
       "      <th>age</th>\n",
       "      <th>sex</th>\n",
       "      <th>cp</th>\n",
       "      <th>trestbps</th>\n",
       "      <th>chol</th>\n",
       "      <th>fbs</th>\n",
       "      <th>restecg</th>\n",
       "      <th>thalach</th>\n",
       "      <th>exang</th>\n",
       "      <th>oldpeak</th>\n",
       "      <th>slope</th>\n",
       "      <th>num</th>\n",
       "    </tr>\n",
       "  </thead>\n",
       "  <tbody>\n",
       "    <tr>\n",
       "      <th>count</th>\n",
       "      <td>302.000000</td>\n",
       "      <td>302.000000</td>\n",
       "      <td>302.000000</td>\n",
       "      <td>302.000000</td>\n",
       "      <td>302.000000</td>\n",
       "      <td>302.000000</td>\n",
       "      <td>302.000000</td>\n",
       "      <td>302.000000</td>\n",
       "      <td>302.000000</td>\n",
       "      <td>302.000000</td>\n",
       "      <td>302.000000</td>\n",
       "      <td>302.000000</td>\n",
       "    </tr>\n",
       "    <tr>\n",
       "      <th>mean</th>\n",
       "      <td>54.410596</td>\n",
       "      <td>0.678808</td>\n",
       "      <td>3.165563</td>\n",
       "      <td>131.645695</td>\n",
       "      <td>246.738411</td>\n",
       "      <td>0.145695</td>\n",
       "      <td>0.986755</td>\n",
       "      <td>149.605960</td>\n",
       "      <td>0.327815</td>\n",
       "      <td>1.035430</td>\n",
       "      <td>1.596026</td>\n",
       "      <td>0.940397</td>\n",
       "    </tr>\n",
       "    <tr>\n",
       "      <th>std</th>\n",
       "      <td>9.040163</td>\n",
       "      <td>0.467709</td>\n",
       "      <td>0.953612</td>\n",
       "      <td>17.612202</td>\n",
       "      <td>51.856829</td>\n",
       "      <td>0.353386</td>\n",
       "      <td>0.994916</td>\n",
       "      <td>22.912959</td>\n",
       "      <td>0.470196</td>\n",
       "      <td>1.160723</td>\n",
       "      <td>0.611939</td>\n",
       "      <td>1.229384</td>\n",
       "    </tr>\n",
       "    <tr>\n",
       "      <th>min</th>\n",
       "      <td>29.000000</td>\n",
       "      <td>0.000000</td>\n",
       "      <td>1.000000</td>\n",
       "      <td>94.000000</td>\n",
       "      <td>126.000000</td>\n",
       "      <td>0.000000</td>\n",
       "      <td>0.000000</td>\n",
       "      <td>71.000000</td>\n",
       "      <td>0.000000</td>\n",
       "      <td>0.000000</td>\n",
       "      <td>1.000000</td>\n",
       "      <td>0.000000</td>\n",
       "    </tr>\n",
       "    <tr>\n",
       "      <th>25%</th>\n",
       "      <td>48.000000</td>\n",
       "      <td>0.000000</td>\n",
       "      <td>3.000000</td>\n",
       "      <td>120.000000</td>\n",
       "      <td>211.000000</td>\n",
       "      <td>0.000000</td>\n",
       "      <td>0.000000</td>\n",
       "      <td>133.250000</td>\n",
       "      <td>0.000000</td>\n",
       "      <td>0.000000</td>\n",
       "      <td>1.000000</td>\n",
       "      <td>0.000000</td>\n",
       "    </tr>\n",
       "    <tr>\n",
       "      <th>50%</th>\n",
       "      <td>55.500000</td>\n",
       "      <td>1.000000</td>\n",
       "      <td>3.000000</td>\n",
       "      <td>130.000000</td>\n",
       "      <td>241.500000</td>\n",
       "      <td>0.000000</td>\n",
       "      <td>0.500000</td>\n",
       "      <td>153.000000</td>\n",
       "      <td>0.000000</td>\n",
       "      <td>0.800000</td>\n",
       "      <td>2.000000</td>\n",
       "      <td>0.000000</td>\n",
       "    </tr>\n",
       "    <tr>\n",
       "      <th>75%</th>\n",
       "      <td>61.000000</td>\n",
       "      <td>1.000000</td>\n",
       "      <td>4.000000</td>\n",
       "      <td>140.000000</td>\n",
       "      <td>275.000000</td>\n",
       "      <td>0.000000</td>\n",
       "      <td>2.000000</td>\n",
       "      <td>166.000000</td>\n",
       "      <td>1.000000</td>\n",
       "      <td>1.600000</td>\n",
       "      <td>2.000000</td>\n",
       "      <td>2.000000</td>\n",
       "    </tr>\n",
       "    <tr>\n",
       "      <th>max</th>\n",
       "      <td>77.000000</td>\n",
       "      <td>1.000000</td>\n",
       "      <td>4.000000</td>\n",
       "      <td>200.000000</td>\n",
       "      <td>564.000000</td>\n",
       "      <td>1.000000</td>\n",
       "      <td>2.000000</td>\n",
       "      <td>202.000000</td>\n",
       "      <td>1.000000</td>\n",
       "      <td>6.200000</td>\n",
       "      <td>3.000000</td>\n",
       "      <td>4.000000</td>\n",
       "    </tr>\n",
       "  </tbody>\n",
       "</table>\n",
       "</div>"
      ],
      "text/plain": [
       "              age         sex          cp    trestbps        chol         fbs  \\\n",
       "count  302.000000  302.000000  302.000000  302.000000  302.000000  302.000000   \n",
       "mean    54.410596    0.678808    3.165563  131.645695  246.738411    0.145695   \n",
       "std      9.040163    0.467709    0.953612   17.612202   51.856829    0.353386   \n",
       "min     29.000000    0.000000    1.000000   94.000000  126.000000    0.000000   \n",
       "25%     48.000000    0.000000    3.000000  120.000000  211.000000    0.000000   \n",
       "50%     55.500000    1.000000    3.000000  130.000000  241.500000    0.000000   \n",
       "75%     61.000000    1.000000    4.000000  140.000000  275.000000    0.000000   \n",
       "max     77.000000    1.000000    4.000000  200.000000  564.000000    1.000000   \n",
       "\n",
       "          restecg     thalach       exang     oldpeak       slope         num  \n",
       "count  302.000000  302.000000  302.000000  302.000000  302.000000  302.000000  \n",
       "mean     0.986755  149.605960    0.327815    1.035430    1.596026    0.940397  \n",
       "std      0.994916   22.912959    0.470196    1.160723    0.611939    1.229384  \n",
       "min      0.000000   71.000000    0.000000    0.000000    1.000000    0.000000  \n",
       "25%      0.000000  133.250000    0.000000    0.000000    1.000000    0.000000  \n",
       "50%      0.500000  153.000000    0.000000    0.800000    2.000000    0.000000  \n",
       "75%      2.000000  166.000000    1.000000    1.600000    2.000000    2.000000  \n",
       "max      2.000000  202.000000    1.000000    6.200000    3.000000    4.000000  "
      ]
     },
     "execution_count": 102,
     "metadata": {},
     "output_type": "execute_result"
    }
   ],
   "source": [
    "my_data.describe()"
   ]
  },
  {
   "cell_type": "code",
   "execution_count": 103,
   "id": "9ca06250",
   "metadata": {},
   "outputs": [],
   "source": [
    "numerical_features = [\"age\", \"trestbps\", \"chol\", \"thalach\", \"oldpeak\", \"thalach\"]\n",
    "categorical_features = [\"sex\", \"cp\", \"fbs\", \"restecg\", \"exang\", \"slope\", \"ca\", \"thal\"]\n",
    "target = \"num\""
   ]
  },
  {
   "cell_type": "markdown",
   "id": "f8fa4be1",
   "metadata": {},
   "source": [
    "Una vez separadas las variables por tipo, podemos empezar el analisis. Lo primero es binarizar a la variable target"
   ]
  },
  {
   "cell_type": "code",
   "execution_count": 104,
   "id": "b66211cd",
   "metadata": {},
   "outputs": [
    {
     "data": {
      "text/plain": [
       "0    163\n",
       "1     55\n",
       "2     36\n",
       "3     35\n",
       "4     13\n",
       "Name: num, dtype: int64"
      ]
     },
     "execution_count": 104,
     "metadata": {},
     "output_type": "execute_result"
    }
   ],
   "source": [
    "my_data[target].value_counts()"
   ]
  },
  {
   "cell_type": "code",
   "execution_count": 105,
   "id": "d672d143",
   "metadata": {},
   "outputs": [],
   "source": [
    "y = my_data[target].values"
   ]
  },
  {
   "cell_type": "code",
   "execution_count": 106,
   "id": "b63594c0",
   "metadata": {},
   "outputs": [],
   "source": [
    "sano_mask = y == 0\n",
    "enfermo_mask = y > 0"
   ]
  },
  {
   "cell_type": "code",
   "execution_count": 107,
   "id": "5e5ff319",
   "metadata": {},
   "outputs": [],
   "source": [
    "y_class = y.copy()\n",
    "\n",
    "y_class[sano_mask] = 0\n",
    "y_class[enfermo_mask] = 1"
   ]
  },
  {
   "cell_type": "code",
   "execution_count": 108,
   "id": "af18e97b",
   "metadata": {},
   "outputs": [],
   "source": [
    "y_class= y_class.flatten()"
   ]
  },
  {
   "cell_type": "code",
   "execution_count": 109,
   "id": "23502718",
   "metadata": {},
   "outputs": [
    {
     "data": {
      "text/html": [
       "<div>\n",
       "<style scoped>\n",
       "    .dataframe tbody tr th:only-of-type {\n",
       "        vertical-align: middle;\n",
       "    }\n",
       "\n",
       "    .dataframe tbody tr th {\n",
       "        vertical-align: top;\n",
       "    }\n",
       "\n",
       "    .dataframe thead th {\n",
       "        text-align: right;\n",
       "    }\n",
       "</style>\n",
       "<table border=\"1\" class=\"dataframe\">\n",
       "  <thead>\n",
       "    <tr style=\"text-align: right;\">\n",
       "      <th></th>\n",
       "      <th>sex</th>\n",
       "      <th>cp</th>\n",
       "      <th>fbs</th>\n",
       "      <th>restecg</th>\n",
       "      <th>exang</th>\n",
       "      <th>slope</th>\n",
       "      <th>ca_0.0</th>\n",
       "      <th>ca_1.0</th>\n",
       "      <th>ca_2.0</th>\n",
       "      <th>ca_3.0</th>\n",
       "      <th>ca_?</th>\n",
       "      <th>thal_3.0</th>\n",
       "      <th>thal_6.0</th>\n",
       "      <th>thal_7.0</th>\n",
       "      <th>thal_?</th>\n",
       "    </tr>\n",
       "  </thead>\n",
       "  <tbody>\n",
       "    <tr>\n",
       "      <th>0</th>\n",
       "      <td>1.0</td>\n",
       "      <td>4.0</td>\n",
       "      <td>0.0</td>\n",
       "      <td>2.0</td>\n",
       "      <td>1.0</td>\n",
       "      <td>2.0</td>\n",
       "      <td>0</td>\n",
       "      <td>0</td>\n",
       "      <td>0</td>\n",
       "      <td>1</td>\n",
       "      <td>0</td>\n",
       "      <td>1</td>\n",
       "      <td>0</td>\n",
       "      <td>0</td>\n",
       "      <td>0</td>\n",
       "    </tr>\n",
       "    <tr>\n",
       "      <th>1</th>\n",
       "      <td>1.0</td>\n",
       "      <td>4.0</td>\n",
       "      <td>0.0</td>\n",
       "      <td>2.0</td>\n",
       "      <td>1.0</td>\n",
       "      <td>2.0</td>\n",
       "      <td>0</td>\n",
       "      <td>0</td>\n",
       "      <td>1</td>\n",
       "      <td>0</td>\n",
       "      <td>0</td>\n",
       "      <td>0</td>\n",
       "      <td>0</td>\n",
       "      <td>1</td>\n",
       "      <td>0</td>\n",
       "    </tr>\n",
       "    <tr>\n",
       "      <th>2</th>\n",
       "      <td>1.0</td>\n",
       "      <td>3.0</td>\n",
       "      <td>0.0</td>\n",
       "      <td>0.0</td>\n",
       "      <td>0.0</td>\n",
       "      <td>3.0</td>\n",
       "      <td>1</td>\n",
       "      <td>0</td>\n",
       "      <td>0</td>\n",
       "      <td>0</td>\n",
       "      <td>0</td>\n",
       "      <td>1</td>\n",
       "      <td>0</td>\n",
       "      <td>0</td>\n",
       "      <td>0</td>\n",
       "    </tr>\n",
       "    <tr>\n",
       "      <th>3</th>\n",
       "      <td>0.0</td>\n",
       "      <td>2.0</td>\n",
       "      <td>0.0</td>\n",
       "      <td>2.0</td>\n",
       "      <td>0.0</td>\n",
       "      <td>1.0</td>\n",
       "      <td>1</td>\n",
       "      <td>0</td>\n",
       "      <td>0</td>\n",
       "      <td>0</td>\n",
       "      <td>0</td>\n",
       "      <td>1</td>\n",
       "      <td>0</td>\n",
       "      <td>0</td>\n",
       "      <td>0</td>\n",
       "    </tr>\n",
       "    <tr>\n",
       "      <th>4</th>\n",
       "      <td>1.0</td>\n",
       "      <td>2.0</td>\n",
       "      <td>0.0</td>\n",
       "      <td>0.0</td>\n",
       "      <td>0.0</td>\n",
       "      <td>1.0</td>\n",
       "      <td>1</td>\n",
       "      <td>0</td>\n",
       "      <td>0</td>\n",
       "      <td>0</td>\n",
       "      <td>0</td>\n",
       "      <td>1</td>\n",
       "      <td>0</td>\n",
       "      <td>0</td>\n",
       "      <td>0</td>\n",
       "    </tr>\n",
       "    <tr>\n",
       "      <th>...</th>\n",
       "      <td>...</td>\n",
       "      <td>...</td>\n",
       "      <td>...</td>\n",
       "      <td>...</td>\n",
       "      <td>...</td>\n",
       "      <td>...</td>\n",
       "      <td>...</td>\n",
       "      <td>...</td>\n",
       "      <td>...</td>\n",
       "      <td>...</td>\n",
       "      <td>...</td>\n",
       "      <td>...</td>\n",
       "      <td>...</td>\n",
       "      <td>...</td>\n",
       "      <td>...</td>\n",
       "    </tr>\n",
       "    <tr>\n",
       "      <th>297</th>\n",
       "      <td>1.0</td>\n",
       "      <td>1.0</td>\n",
       "      <td>0.0</td>\n",
       "      <td>0.0</td>\n",
       "      <td>0.0</td>\n",
       "      <td>2.0</td>\n",
       "      <td>1</td>\n",
       "      <td>0</td>\n",
       "      <td>0</td>\n",
       "      <td>0</td>\n",
       "      <td>0</td>\n",
       "      <td>0</td>\n",
       "      <td>0</td>\n",
       "      <td>1</td>\n",
       "      <td>0</td>\n",
       "    </tr>\n",
       "    <tr>\n",
       "      <th>298</th>\n",
       "      <td>1.0</td>\n",
       "      <td>4.0</td>\n",
       "      <td>1.0</td>\n",
       "      <td>0.0</td>\n",
       "      <td>0.0</td>\n",
       "      <td>2.0</td>\n",
       "      <td>0</td>\n",
       "      <td>0</td>\n",
       "      <td>1</td>\n",
       "      <td>0</td>\n",
       "      <td>0</td>\n",
       "      <td>0</td>\n",
       "      <td>0</td>\n",
       "      <td>1</td>\n",
       "      <td>0</td>\n",
       "    </tr>\n",
       "    <tr>\n",
       "      <th>299</th>\n",
       "      <td>1.0</td>\n",
       "      <td>4.0</td>\n",
       "      <td>0.0</td>\n",
       "      <td>0.0</td>\n",
       "      <td>1.0</td>\n",
       "      <td>2.0</td>\n",
       "      <td>0</td>\n",
       "      <td>1</td>\n",
       "      <td>0</td>\n",
       "      <td>0</td>\n",
       "      <td>0</td>\n",
       "      <td>0</td>\n",
       "      <td>0</td>\n",
       "      <td>1</td>\n",
       "      <td>0</td>\n",
       "    </tr>\n",
       "    <tr>\n",
       "      <th>300</th>\n",
       "      <td>0.0</td>\n",
       "      <td>2.0</td>\n",
       "      <td>0.0</td>\n",
       "      <td>2.0</td>\n",
       "      <td>0.0</td>\n",
       "      <td>2.0</td>\n",
       "      <td>0</td>\n",
       "      <td>1</td>\n",
       "      <td>0</td>\n",
       "      <td>0</td>\n",
       "      <td>0</td>\n",
       "      <td>1</td>\n",
       "      <td>0</td>\n",
       "      <td>0</td>\n",
       "      <td>0</td>\n",
       "    </tr>\n",
       "    <tr>\n",
       "      <th>301</th>\n",
       "      <td>1.0</td>\n",
       "      <td>3.0</td>\n",
       "      <td>0.0</td>\n",
       "      <td>0.0</td>\n",
       "      <td>0.0</td>\n",
       "      <td>1.0</td>\n",
       "      <td>0</td>\n",
       "      <td>0</td>\n",
       "      <td>0</td>\n",
       "      <td>0</td>\n",
       "      <td>1</td>\n",
       "      <td>1</td>\n",
       "      <td>0</td>\n",
       "      <td>0</td>\n",
       "      <td>0</td>\n",
       "    </tr>\n",
       "  </tbody>\n",
       "</table>\n",
       "<p>302 rows × 15 columns</p>\n",
       "</div>"
      ],
      "text/plain": [
       "     sex   cp  fbs  restecg  exang  slope  ca_0.0  ca_1.0  ca_2.0  ca_3.0  \\\n",
       "0    1.0  4.0  0.0      2.0    1.0    2.0       0       0       0       1   \n",
       "1    1.0  4.0  0.0      2.0    1.0    2.0       0       0       1       0   \n",
       "2    1.0  3.0  0.0      0.0    0.0    3.0       1       0       0       0   \n",
       "3    0.0  2.0  0.0      2.0    0.0    1.0       1       0       0       0   \n",
       "4    1.0  2.0  0.0      0.0    0.0    1.0       1       0       0       0   \n",
       "..   ...  ...  ...      ...    ...    ...     ...     ...     ...     ...   \n",
       "297  1.0  1.0  0.0      0.0    0.0    2.0       1       0       0       0   \n",
       "298  1.0  4.0  1.0      0.0    0.0    2.0       0       0       1       0   \n",
       "299  1.0  4.0  0.0      0.0    1.0    2.0       0       1       0       0   \n",
       "300  0.0  2.0  0.0      2.0    0.0    2.0       0       1       0       0   \n",
       "301  1.0  3.0  0.0      0.0    0.0    1.0       0       0       0       0   \n",
       "\n",
       "     ca_?  thal_3.0  thal_6.0  thal_7.0  thal_?  \n",
       "0       0         1         0         0       0  \n",
       "1       0         0         0         1       0  \n",
       "2       0         1         0         0       0  \n",
       "3       0         1         0         0       0  \n",
       "4       0         1         0         0       0  \n",
       "..    ...       ...       ...       ...     ...  \n",
       "297     0         0         0         1       0  \n",
       "298     0         0         0         1       0  \n",
       "299     0         0         0         1       0  \n",
       "300     0         1         0         0       0  \n",
       "301     1         1         0         0       0  \n",
       "\n",
       "[302 rows x 15 columns]"
      ]
     },
     "execution_count": 109,
     "metadata": {},
     "output_type": "execute_result"
    }
   ],
   "source": [
    "pd.get_dummies(my_data[categorical_features])"
   ]
  },
  {
   "cell_type": "code",
   "execution_count": 110,
   "id": "4bd8c98e",
   "metadata": {},
   "outputs": [
    {
     "data": {
      "text/plain": [
       "2"
      ]
     },
     "execution_count": 110,
     "metadata": {},
     "output_type": "execute_result"
    }
   ],
   "source": [
    "pca = PCA(n_components=0.9).fit(my_data[numerical_features])\n",
    "\n",
    "pca.n_components_"
   ]
  },
  {
   "cell_type": "code",
   "execution_count": 111,
   "id": "d0dce162",
   "metadata": {},
   "outputs": [],
   "source": [
    "X_transformed = pca.transform(my_data[numerical_features])"
   ]
  },
  {
   "cell_type": "code",
   "execution_count": 112,
   "id": "e9e3dfa2",
   "metadata": {},
   "outputs": [
    {
     "data": {
      "text/plain": [
       "array([[ 4.15197276e+01,  6.04359951e+01],\n",
       "       [-1.75994017e+01,  3.01920764e+01],\n",
       "       [ 2.12973462e+00, -5.45861630e+01],\n",
       "       [-4.34743454e+01, -3.24753433e+01],\n",
       "       [-1.15270317e+01, -3.99676683e+01],\n",
       "       [ 2.18359694e+01, -1.36251712e+01],\n",
       "       [ 1.06416100e+02, -2.03988377e+01],\n",
       "       [ 7.52203752e+00,  4.50457172e+00],\n",
       "       [-4.33295298e+01, -6.79174957e+00],\n",
       "       [-5.40858010e+01,  3.61377300e+00],\n",
       "       [ 4.76163183e+01, -4.88514137e+00],\n",
       "       [ 9.29523476e+00,  1.06638337e+01],\n",
       "       [ 1.50008069e+01, -3.47313944e+01],\n",
       "       [-4.58080508e+01, -1.54606005e+01],\n",
       "       [-7.77844491e+01, -3.21393208e+01],\n",
       "       [-1.92309131e+01, -2.71659586e+01],\n",
       "       [-7.41691526e+00, -1.42000964e+01],\n",
       "       [ 2.79752555e+01,  1.36751141e+01],\n",
       "       [ 1.87164266e+01, -3.09825000e+01],\n",
       "       [-3.63354231e+01,  8.63630131e+00],\n",
       "       [ 3.71347167e+01, -1.67444313e+01],\n",
       "       [ 3.66305869e+01, -1.51122588e+01],\n",
       "       [-2.27632860e+01, -3.20576672e+01],\n",
       "       [-4.03453921e+01,  2.58612185e+01],\n",
       "       [-2.85254975e+01, -1.23675133e+01],\n",
       "       [ 9.23939924e+01, -3.27286223e+01],\n",
       "       [-1.89607075e+01,  5.23334915e+01],\n",
       "       [ 5.39517646e-01, -3.06369578e+01],\n",
       "       [-8.08772153e+01,  4.85175806e+01],\n",
       "       [-6.74602175e+00,  1.92134964e-01],\n",
       "       [-1.73331215e+01, -1.42710047e+01],\n",
       "       [ 8.87905094e+01, -1.15339335e+01],\n",
       "       [-1.24774123e+01, -1.51540816e+01],\n",
       "       [-1.44884994e+01, -4.23501621e+01],\n",
       "       [-2.10344993e+01, -4.07014363e+01],\n",
       "       [-7.03328211e+01,  4.07112500e+01],\n",
       "       [ 3.06047147e+01,  5.33861241e+01],\n",
       "       [ 1.06257273e+02,  2.33541734e+01],\n",
       "       [-2.41903852e+00,  1.92259516e+01],\n",
       "       [-1.99992964e+01,  5.22100613e+01],\n",
       "       [-4.80545234e+01, -4.05537043e+01],\n",
       "       [ 5.71059845e+01, -1.50960596e+01],\n",
       "       [-3.36296572e+01, -8.64546815e+00],\n",
       "       [ 8.30681661e+01, -2.76426622e+01],\n",
       "       [-1.77125659e+01, -2.17024448e+01],\n",
       "       [-7.25583195e+01,  3.70517251e+01],\n",
       "       [-2.75422366e+00,  3.05862735e+01],\n",
       "       [ 1.70670684e+02, -1.11109042e+01],\n",
       "       [-4.97973240e+01, -2.91500754e+00],\n",
       "       [-5.06930518e+01, -2.77745240e+01],\n",
       "       [-6.96809255e+01,  1.51979246e+01],\n",
       "       [ 4.17368419e+01, -7.34485664e+00],\n",
       "       [-2.85491086e+01, -5.47945552e+01],\n",
       "       [ 6.43756491e+00,  8.37629233e+00],\n",
       "       [ 1.92209812e+01,  5.63847086e+01],\n",
       "       [-1.35898870e+01, -1.88043683e+01],\n",
       "       [-7.62865809e+01, -1.31967649e+01],\n",
       "       [ 2.58297563e+01, -4.02782772e+00],\n",
       "       [-3.38942587e+01,  3.43275421e+01],\n",
       "       [ 5.80010078e+01,  9.42424485e+00],\n",
       "       [-6.94969891e+01, -1.42191810e+01],\n",
       "       [-3.05354004e+01,  2.68146667e+01],\n",
       "       [ 5.70946015e+01, -2.93193059e+01],\n",
       "       [-5.88614432e+01,  5.16591996e+01],\n",
       "       [ 3.61605185e+01,  1.13937137e+01],\n",
       "       [-6.10212707e+01, -5.73033606e+00],\n",
       "       [-1.39438463e+01, -2.07262424e+01],\n",
       "       [ 8.13203863e+01,  1.44717887e+01],\n",
       "       [-1.50712070e+01,  3.63226544e+00],\n",
       "       [ 2.38269252e+01,  4.10109616e+00],\n",
       "       [ 7.26344423e+00, -1.76876399e+01],\n",
       "       [ 2.04242770e+01,  7.11784998e+01],\n",
       "       [ 4.86906629e-01, -1.14053227e+01],\n",
       "       [-5.14100158e+01, -3.98431171e+01],\n",
       "       [ 1.14863028e+02, -1.14195298e+00],\n",
       "       [ 1.12047924e+01,  1.23405367e+01],\n",
       "       [ 6.15027719e+01,  9.77765053e+00],\n",
       "       [-2.36846135e+00, -4.34494697e+01],\n",
       "       [ 2.46659868e+01,  5.49898657e+01],\n",
       "       [-4.04080175e+01,  6.20238121e-01],\n",
       "       [ 1.71523478e+01,  8.79891076e+00],\n",
       "       [ 7.36134187e+01, -4.79480162e+01],\n",
       "       [ 3.01829942e+01,  2.56392780e+00],\n",
       "       [ 7.71927748e+01, -3.32261491e+01],\n",
       "       [-1.19954015e+01, -4.33950979e+01],\n",
       "       [ 1.02113305e+01, -9.74302309e+00],\n",
       "       [-3.05734165e+01,  4.86525277e+01],\n",
       "       [-1.25482821e+01, -1.43425970e+01],\n",
       "       [ 9.03214278e+00,  2.55015963e-01],\n",
       "       [ 5.49907097e+01, -1.80748500e+00],\n",
       "       [-8.07824150e+01,  9.63906380e+00],\n",
       "       [-1.54588105e+01,  6.10614557e+00],\n",
       "       [-1.07375328e+02, -3.63512926e+01],\n",
       "       [ 5.53091948e+00, -3.03697388e+01],\n",
       "       [ 7.85209024e+00, -1.65365747e+01],\n",
       "       [-8.56790739e+00,  1.04716905e+01],\n",
       "       [ 1.23152405e+01, -9.13705756e+00],\n",
       "       [-4.57011372e+01, -1.13539592e+01],\n",
       "       [-2.57866342e+01, -5.18725334e+01],\n",
       "       [ 1.16732034e+01, -5.16068378e+01],\n",
       "       [-6.63306698e+01, -3.62898421e+01],\n",
       "       [ 5.59664153e+01, -1.37928902e+01],\n",
       "       [ 1.79605766e+01,  2.83487720e+01],\n",
       "       [-5.93117050e+01,  1.45989879e+01],\n",
       "       [ 6.08522730e+01, -1.07960625e+01],\n",
       "       [-6.91163370e+01, -1.55987498e+01],\n",
       "       [-1.77911605e+01, -1.60343651e-01],\n",
       "       [ 1.29964517e+01,  1.36486104e+01],\n",
       "       [-2.88755394e+01,  1.15184234e+01],\n",
       "       [ 6.11058747e+01,  5.53828805e+00],\n",
       "       [ 2.03682293e+00,  7.76436816e+00],\n",
       "       [-6.17999118e+01, -5.66868386e+01],\n",
       "       [ 9.37797423e+01,  1.65208035e+01],\n",
       "       [ 1.69592175e+01,  7.44215796e+01],\n",
       "       [-4.38243478e+01,  2.38423652e+01],\n",
       "       [-3.52550104e+01, -2.03843836e+01],\n",
       "       [-6.43562739e+01, -4.66138064e+01],\n",
       "       [ 8.35139204e+01,  2.45308278e+01],\n",
       "       [ 8.05289841e+00,  3.30144445e+01],\n",
       "       [ 8.90542568e+00, -1.50561356e+00],\n",
       "       [ 1.61154978e+02, -6.57070247e+00],\n",
       "       [-2.63602133e+01,  7.97115678e+00],\n",
       "       [-2.88425978e+01,  5.50235304e+01],\n",
       "       [ 3.56805850e+01, -3.32125172e+01],\n",
       "       [-1.34120046e+01, -3.66314472e+01],\n",
       "       [ 4.48754674e+01,  2.56337334e+01],\n",
       "       [-8.60137882e+00,  3.23566788e+01],\n",
       "       [-2.78806664e+01, -2.99413339e+01],\n",
       "       [-3.78882884e+01, -1.77070053e+01],\n",
       "       [ 1.06563017e+01,  2.99417237e+00],\n",
       "       [-2.17853872e+01, -7.78012889e+00],\n",
       "       [-4.42377689e+01, -7.59926286e+01],\n",
       "       [ 1.41626991e+01, -5.13454921e+01],\n",
       "       [-3.47537097e+01, -2.28675828e+01],\n",
       "       [ 3.33564150e+00, -1.58273034e+01],\n",
       "       [-7.10609540e+01,  3.78740623e+01],\n",
       "       [ 3.43552930e+01,  6.53718671e+01],\n",
       "       [-4.97861669e+01,  2.54482218e+01],\n",
       "       [-2.36487651e+00, -2.36217479e+01],\n",
       "       [-2.52270348e+01, -1.89991503e+01],\n",
       "       [ 4.32070633e+01, -1.17149065e+01],\n",
       "       [-4.22721931e+01, -4.81342102e+01],\n",
       "       [ 6.23521427e+01,  2.61395200e+01],\n",
       "       [-7.98197542e+00, -6.69937874e+00],\n",
       "       [-5.24297463e+00, -5.11192223e+00],\n",
       "       [ 4.42209982e+01,  3.69629054e+01],\n",
       "       [ 1.44598843e+00, -4.36382619e+01],\n",
       "       [ 6.03823427e+01, -3.07002462e+01],\n",
       "       [ 6.97219837e+01, -1.60618064e+01],\n",
       "       [ 5.18147157e+01, -4.00195622e+01],\n",
       "       [ 1.65108735e+01,  3.58737776e+01],\n",
       "       [ 3.16146716e+02, -1.80365227e+01],\n",
       "       [ 4.36816773e+01,  7.06475300e+00],\n",
       "       [-4.24688982e-01,  7.59106605e+01],\n",
       "       [ 7.60299433e+01,  5.77386279e+01],\n",
       "       [ 5.22147380e+01, -3.35976112e+01],\n",
       "       [ 5.27403325e+01, -3.05902955e+01],\n",
       "       [ 4.66050134e+01, -2.82582758e+01],\n",
       "       [ 3.00190413e+01, -1.30636049e+00],\n",
       "       [-5.15815792e+01, -1.04937116e+01],\n",
       "       [ 5.75572095e+01, -1.57911566e+01],\n",
       "       [-3.38678053e+01, -1.22218393e+01],\n",
       "       [ 6.48158784e-02,  3.79036524e+01],\n",
       "       [ 7.35555204e+00, -3.68052725e+01],\n",
       "       [-3.97212556e+01, -2.49691034e+01],\n",
       "       [-2.36533525e+01, -2.69396234e+01],\n",
       "       [ 4.10842239e+01, -1.37855546e+01],\n",
       "       [ 3.40856582e+01, -1.19538619e+01],\n",
       "       [-8.78073998e+01,  1.55748869e+01],\n",
       "       [ 2.46331689e+01,  5.54215068e+01],\n",
       "       [-1.98438519e+01,  5.46764241e+01],\n",
       "       [ 4.64876426e+00,  1.14158470e+01],\n",
       "       [ 1.47602458e+02, -1.11466700e+01],\n",
       "       [-3.34418963e+01,  2.68288884e+01],\n",
       "       [ 2.89485677e+01,  8.71744914e+01],\n",
       "       [-1.49790121e+01,  2.62558920e+00],\n",
       "       [-6.20865739e+01,  6.36495890e+01],\n",
       "       [ 6.74733514e+01, -1.97020396e+01],\n",
       "       [-1.10779424e+00, -3.30578743e+01],\n",
       "       [ 2.64059504e+01, -2.44271479e+01],\n",
       "       [ 1.62104560e+02, -2.45502943e+00],\n",
       "       [-2.66464907e+00, -4.06223939e+01],\n",
       "       [ 2.57936509e+01,  8.53415092e+00],\n",
       "       [ 5.95815276e+01, -1.51043797e+01],\n",
       "       [-5.11667779e+01, -3.92271772e+01],\n",
       "       [-8.23599636e+00, -6.41115096e+01],\n",
       "       [ 1.44309424e+00,  4.40024308e+01],\n",
       "       [ 3.87839519e+01, -6.18907308e+01],\n",
       "       [ 8.27270176e+00,  7.00789847e+00],\n",
       "       [-5.10725236e+01, -1.87414543e+01],\n",
       "       [ 5.17245639e+01,  3.80093903e+01],\n",
       "       [-9.87802233e-02,  7.93186889e+00],\n",
       "       [ 4.82130331e+01,  6.16954024e+01],\n",
       "       [-3.53862550e+01,  5.01828205e+01],\n",
       "       [ 5.12783129e+01,  3.40581377e+01],\n",
       "       [-1.05246153e+01,  2.90821782e+01],\n",
       "       [-1.07829449e+01, -4.07853645e+00],\n",
       "       [-3.61732791e+00, -1.83239053e+01],\n",
       "       [ 2.80666452e+01,  3.58024521e+01],\n",
       "       [ 5.88277747e+00, -1.46532697e+01],\n",
       "       [ 8.08811648e+01, -4.22550729e+00],\n",
       "       [-1.19689453e+02, -3.01864484e+01],\n",
       "       [ 6.70835800e+01,  2.38446317e+01],\n",
       "       [-3.73193606e+01, -1.76986407e+01],\n",
       "       [ 6.23185090e+01,  2.10524125e+00],\n",
       "       [ 1.23866101e+01,  2.76471751e+01],\n",
       "       [-4.59521873e+01,  3.37179747e+01],\n",
       "       [ 1.51147430e+01, -7.78281101e+00],\n",
       "       [-1.55010163e+00, -4.51925208e+00],\n",
       "       [-3.31415253e+01, -3.06934474e+01],\n",
       "       [-1.72500378e+01, -4.75832014e+01],\n",
       "       [-3.34547082e+01, -2.69902722e+01],\n",
       "       [-1.60501136e+01, -1.81820769e+01],\n",
       "       [-1.78985283e+01, -1.54201738e+01],\n",
       "       [-5.42785530e+01, -1.69228614e+01],\n",
       "       [-4.45513220e+01, -3.28827374e+01],\n",
       "       [-3.75890531e+00, -4.05844014e+00],\n",
       "       [ 5.67076361e+01,  3.90465627e+01],\n",
       "       [ 2.43900287e+01, -4.50091890e+01],\n",
       "       [ 1.94780647e+01, -3.40591603e+01],\n",
       "       [ 1.88302022e+01, -2.56637696e+01],\n",
       "       [-5.04398105e+01, -4.38861933e+01],\n",
       "       [ 3.52367145e+01,  7.56543584e+01],\n",
       "       [ 2.11571046e+01, -2.74209733e+01],\n",
       "       [-3.85657947e+01, -6.19161230e+01],\n",
       "       [-4.38701806e+01,  8.20041884e+00],\n",
       "       [ 3.14971589e+01, -2.95756032e+01],\n",
       "       [-4.13584351e+01,  5.80244244e+01],\n",
       "       [-3.50417777e+01,  2.57518744e+01],\n",
       "       [-5.06989694e+01, -2.66518742e+01],\n",
       "       [ 8.28985459e+01,  4.66528444e+01],\n",
       "       [-9.82054474e+01,  3.32737397e+01],\n",
       "       [ 2.26654349e+01,  4.16671591e+01],\n",
       "       [-4.43543176e+01, -1.71310174e+01],\n",
       "       [ 3.90100691e+01,  4.62269046e+01],\n",
       "       [ 3.66265556e+01,  6.50350009e+01],\n",
       "       [ 1.39512944e+00,  6.39342321e+00],\n",
       "       [ 2.39974760e+01, -1.82729170e+01],\n",
       "       [ 4.69660558e+01, -1.99628476e+01],\n",
       "       [-1.33672684e+01, -7.03156547e+00],\n",
       "       [ 5.81992546e+01, -2.13975034e+01],\n",
       "       [ 2.17886716e+01, -1.98051515e+01],\n",
       "       [-1.22898567e+01,  7.51771097e+00],\n",
       "       [-6.84417920e+01,  7.63331393e+01],\n",
       "       [-9.04392785e+00,  1.11447607e+02],\n",
       "       [-1.42437689e+01, -9.62598812e+00],\n",
       "       [ 2.71300610e+01,  4.22539651e+01],\n",
       "       [-3.52794191e+01, -2.58827879e+01],\n",
       "       [-3.84555935e+01,  1.47352953e+01],\n",
       "       [-4.64081986e+01,  3.32048893e+01],\n",
       "       [-2.73688126e+01,  6.39697337e+01],\n",
       "       [ 1.68548226e+01,  6.33400226e+01],\n",
       "       [ 4.73649209e+01, -1.18857971e+01],\n",
       "       [ 5.45478949e+01, -4.67940608e+01],\n",
       "       [-3.89651075e+01, -3.42364780e+01],\n",
       "       [-2.44290373e+01,  1.14571918e+01],\n",
       "       [-4.80425656e+01,  5.06808142e+01],\n",
       "       [ 1.69496839e-01,  1.20554893e+01],\n",
       "       [ 1.40286199e+01,  1.18787409e+01],\n",
       "       [-5.81948489e+00, -8.46290706e-01],\n",
       "       [ 7.24474479e+01, -3.75754396e+00],\n",
       "       [-5.78813473e+00, -2.85593755e+01],\n",
       "       [-2.18831678e+01, -2.86191825e+01],\n",
       "       [-7.97472238e+01,  3.66675448e+01],\n",
       "       [ 6.81051715e+01,  3.23307342e+01],\n",
       "       [-4.29918682e+01, -8.81977453e+00],\n",
       "       [-2.86319972e+01,  2.26172285e+01],\n",
       "       [-2.35263447e+01, -4.46363661e+01],\n",
       "       [-6.71700002e+01, -1.18201440e+00],\n",
       "       [-3.88610819e+01,  1.79298239e+01],\n",
       "       [-1.66950774e+01,  1.90170732e+01],\n",
       "       [ 6.45209181e+01,  4.00249822e+01],\n",
       "       [-9.76468483e+01,  3.70286647e+01],\n",
       "       [-4.24757265e+01, -1.61874896e+01],\n",
       "       [-1.74331404e+01, -4.68824737e+00],\n",
       "       [ 3.23496914e+01, -1.87707091e+00],\n",
       "       [-2.69825748e+01, -4.56752233e+00],\n",
       "       [-1.36165993e+01, -1.88355808e+01],\n",
       "       [-4.93965377e+01,  2.71293948e+01],\n",
       "       [ 8.71485239e+01,  7.56050689e+00],\n",
       "       [ 5.58592458e+00, -4.22738911e+01],\n",
       "       [-4.16192416e+01,  2.80126007e+01],\n",
       "       [-5.61095478e+01, -3.61516945e+01],\n",
       "       [-4.26765945e+01, -1.40003032e+01],\n",
       "       [ 7.04567897e+01,  1.22900499e+01],\n",
       "       [-1.95697691e+01,  7.29196368e+00],\n",
       "       [-2.68267349e+01,  8.38017499e+00],\n",
       "       [-2.58409672e+01, -1.83374455e+01],\n",
       "       [-7.44719690e+00, -2.74031401e+01],\n",
       "       [-3.31498969e+01,  2.18149258e+00],\n",
       "       [ 9.49435664e+01, -2.42048106e+01],\n",
       "       [-7.85146749e+01,  7.26418882e+00],\n",
       "       [-5.87991367e+01,  1.00411095e+01],\n",
       "       [-4.95575863e+01,  2.04574747e+01],\n",
       "       [-9.09854686e+01, -4.62799330e+01],\n",
       "       [-6.81823790e+01,  8.63912644e+01],\n",
       "       [-4.93990057e+00,  3.80287536e+01],\n",
       "       [ 1.59370130e+01,  2.25265209e+01],\n",
       "       [-5.23858174e+01,  1.49036641e+01],\n",
       "       [-1.15139879e+02,  5.03614519e+01],\n",
       "       [-1.09420632e+01, -3.38576632e+01],\n",
       "       [-7.21361397e+01, -3.35434317e+01]])"
      ]
     },
     "execution_count": 112,
     "metadata": {},
     "output_type": "execute_result"
    }
   ],
   "source": [
    "X_transformed"
   ]
  },
  {
   "cell_type": "code",
   "execution_count": 113,
   "id": "75184170",
   "metadata": {},
   "outputs": [
    {
     "data": {
      "text/plain": [
       "<Axes: >"
      ]
     },
     "execution_count": 113,
     "metadata": {},
     "output_type": "execute_result"
    },
    {
     "data": {
      "image/png": "[encoded data removed]",
      "text/plain": [
       "<Figure size 640x480 with 1 Axes>"
      ]
     },
     "metadata": {},
     "output_type": "display_data"
    }
   ],
   "source": [
    "sns.scatterplot(x=X_transformed[:,0], y=X_transformed[:,1])"
   ]
  },
  {
   "cell_type": "markdown",
   "id": "13e49832",
   "metadata": {},
   "source": [
    "# Modelos y evaluación\n",
    "Probar diferentes modelos para predecir la variable objetivo. Calcular las métricas que considere relevantes. Comentar los resultados. "
   ]
  },
  {
   "cell_type": "code",
   "execution_count": 114,
   "id": "529db73e",
   "metadata": {},
   "outputs": [
    {
     "data": {
      "text/plain": [
       "array([[-7.77844491e+01, -3.21393208e+01],\n",
       "       [ 1.59370130e+01,  2.25265209e+01],\n",
       "       [-3.63354231e+01,  8.63630131e+00],\n",
       "       [-2.63602133e+01,  7.97115678e+00],\n",
       "       [-9.09854686e+01, -4.62799330e+01],\n",
       "       [ 3.66265556e+01,  6.50350009e+01],\n",
       "       [-5.04398105e+01, -4.38861933e+01],\n",
       "       [ 1.94780647e+01, -3.40591603e+01],\n",
       "       [ 4.48754674e+01,  2.56337334e+01],\n",
       "       [ 8.71485239e+01,  7.56050689e+00],\n",
       "       [-8.60137882e+00,  3.23566788e+01],\n",
       "       [-6.20865739e+01,  6.36495890e+01],\n",
       "       [-1.34120046e+01, -3.66314472e+01],\n",
       "       [ 9.03214278e+00,  2.55015963e-01],\n",
       "       [-3.78882884e+01, -1.77070053e+01],\n",
       "       [-2.75422366e+00,  3.05862735e+01],\n",
       "       [ 2.39974760e+01, -1.82729170e+01],\n",
       "       [ 5.88277747e+00, -1.46532697e+01],\n",
       "       [-9.87802233e-02,  7.93186889e+00],\n",
       "       [ 1.02113305e+01, -9.74302309e+00],\n",
       "       [ 5.71059845e+01, -1.50960596e+01],\n",
       "       [-3.85657947e+01, -6.19161230e+01],\n",
       "       [-4.58080508e+01, -1.54606005e+01],\n",
       "       [-6.84417920e+01,  7.63331393e+01],\n",
       "       [-4.57011372e+01, -1.13539592e+01],\n",
       "       [-5.61095478e+01, -3.61516945e+01],\n",
       "       [-4.03453921e+01,  2.58612185e+01],\n",
       "       [ 5.58592458e+00, -4.22738911e+01],\n",
       "       [-1.60501136e+01, -1.81820769e+01],\n",
       "       [-5.78813473e+00, -2.85593755e+01],\n",
       "       [ 2.79752555e+01,  1.36751141e+01],\n",
       "       [ 3.23496914e+01, -1.87707091e+00],\n",
       "       [ 6.48158784e-02,  3.79036524e+01],\n",
       "       [-2.27632860e+01, -3.20576672e+01],\n",
       "       [ 3.52367145e+01,  7.56543584e+01],\n",
       "       [-5.15815792e+01, -1.04937116e+01],\n",
       "       [-4.97861669e+01,  2.54482218e+01],\n",
       "       [ 3.33564150e+00, -1.58273034e+01],\n",
       "       [-1.66950774e+01,  1.90170732e+01],\n",
       "       [ 9.37797423e+01,  1.65208035e+01],\n",
       "       [ 5.80010078e+01,  9.42424485e+00],\n",
       "       [-8.23599636e+00, -6.41115096e+01],\n",
       "       [-9.76468483e+01,  3.70286647e+01],\n",
       "       [ 5.18147157e+01, -4.00195622e+01],\n",
       "       [ 6.45209181e+01,  4.00249822e+01],\n",
       "       [-4.64081986e+01,  3.32048893e+01],\n",
       "       [ 7.36134187e+01, -4.79480162e+01],\n",
       "       [-2.78806664e+01, -2.99413339e+01],\n",
       "       [ 1.50008069e+01, -3.47313944e+01],\n",
       "       [-6.91163370e+01, -1.55987498e+01],\n",
       "       [ 9.23939924e+01, -3.27286223e+01],\n",
       "       [-1.50712070e+01,  3.63226544e+00],\n",
       "       [ 9.49435664e+01, -2.42048106e+01],\n",
       "       [-1.39438463e+01, -2.07262424e+01],\n",
       "       [-7.97472238e+01,  3.66675448e+01],\n",
       "       [-2.85254975e+01, -1.23675133e+01],\n",
       "       [ 1.51147430e+01, -7.78281101e+00],\n",
       "       [-4.43543176e+01, -1.71310174e+01],\n",
       "       [-4.97973240e+01, -2.91500754e+00],\n",
       "       [-1.89607075e+01,  5.23334915e+01],\n",
       "       [ 7.24474479e+01, -3.75754396e+00],\n",
       "       [-3.36296572e+01, -8.64546815e+00],\n",
       "       [ 2.12973462e+00, -5.45861630e+01],\n",
       "       [ 8.27270176e+00,  7.00789847e+00],\n",
       "       [-3.05734165e+01,  4.86525277e+01],\n",
       "       [ 7.85209024e+00, -1.65365747e+01],\n",
       "       [ 3.87839519e+01, -6.18907308e+01],\n",
       "       [ 2.46331689e+01,  5.54215068e+01],\n",
       "       [-5.87991367e+01,  1.00411095e+01],\n",
       "       [ 5.95815276e+01, -1.51043797e+01],\n",
       "       [-6.63306698e+01, -3.62898421e+01],\n",
       "       [-2.35263447e+01, -4.46363661e+01],\n",
       "       [-3.61732791e+00, -1.83239053e+01],\n",
       "       [-1.35898870e+01, -1.88043683e+01],\n",
       "       [-2.36533525e+01, -2.69396234e+01],\n",
       "       [ 5.75572095e+01, -1.57911566e+01],\n",
       "       [-4.22721931e+01, -4.81342102e+01],\n",
       "       [ 4.64876426e+00,  1.14158470e+01],\n",
       "       [-2.36487651e+00, -2.36217479e+01],\n",
       "       [ 8.08811648e+01, -4.22550729e+00],\n",
       "       [-1.22898567e+01,  7.51771097e+00],\n",
       "       [-5.23858174e+01,  1.49036641e+01],\n",
       "       [-3.47537097e+01, -2.28675828e+01],\n",
       "       [-6.10212707e+01, -5.73033606e+00],\n",
       "       [ 5.53091948e+00, -3.03697388e+01],\n",
       "       [-1.15139879e+02,  5.03614519e+01],\n",
       "       [ 1.70670684e+02, -1.11109042e+01],\n",
       "       [-1.92309131e+01, -2.71659586e+01],\n",
       "       [ 1.71523478e+01,  8.79891076e+00],\n",
       "       [-1.77125659e+01, -2.17024448e+01],\n",
       "       [ 6.70835800e+01,  2.38446317e+01],\n",
       "       [-2.58409672e+01, -1.83374455e+01],\n",
       "       [-7.85146749e+01,  7.26418882e+00],\n",
       "       [-3.38678053e+01, -1.22218393e+01],\n",
       "       [-4.26765945e+01, -1.40003032e+01],\n",
       "       [-3.31498969e+01,  2.18149258e+00],\n",
       "       [ 8.13203863e+01,  1.44717887e+01],\n",
       "       [ 2.26654349e+01,  4.16671591e+01],\n",
       "       [-4.95575863e+01,  2.04574747e+01],\n",
       "       [-1.44884994e+01, -4.23501621e+01],\n",
       "       [-6.43562739e+01, -4.66138064e+01],\n",
       "       [-2.41903852e+00,  1.92259516e+01],\n",
       "       [ 6.43756491e+00,  8.37629233e+00],\n",
       "       [ 1.62104560e+02, -2.45502943e+00],\n",
       "       [ 1.39512944e+00,  6.39342321e+00],\n",
       "       [ 4.86906629e-01, -1.14053227e+01],\n",
       "       [-2.88425978e+01,  5.50235304e+01],\n",
       "       [-7.98197542e+00, -6.69937874e+00],\n",
       "       [-6.96809255e+01,  1.51979246e+01],\n",
       "       [ 5.70946015e+01, -2.93193059e+01],\n",
       "       [-4.45513220e+01, -3.28827374e+01],\n",
       "       [-1.10779424e+00, -3.30578743e+01],\n",
       "       [-4.16192416e+01,  2.80126007e+01],\n",
       "       [ 2.04242770e+01,  7.11784998e+01],\n",
       "       [ 4.76163183e+01, -4.88514137e+00],\n",
       "       [ 7.60299433e+01,  5.77386279e+01],\n",
       "       [ 1.23152405e+01, -9.13705756e+00],\n",
       "       [ 4.17368419e+01, -7.34485664e+00],\n",
       "       [ 7.71927748e+01, -3.32261491e+01],\n",
       "       [-5.42785530e+01, -1.69228614e+01],\n",
       "       [-4.93965377e+01,  2.71293948e+01],\n",
       "       [-5.24297463e+00, -5.11192223e+00],\n",
       "       [ 1.06416100e+02, -2.03988377e+01],\n",
       "       [ 4.32070633e+01, -1.17149065e+01],\n",
       "       [-2.85491086e+01, -5.47945552e+01],\n",
       "       [-7.41691526e+00, -1.42000964e+01],\n",
       "       [-3.52794191e+01, -2.58827879e+01],\n",
       "       [-1.33672684e+01, -7.03156547e+00],\n",
       "       [-2.68267349e+01,  8.38017499e+00],\n",
       "       [ 4.66050134e+01, -2.82582758e+01],\n",
       "       [-2.44290373e+01,  1.14571918e+01],\n",
       "       [-7.10609540e+01,  3.78740623e+01],\n",
       "       [-2.73688126e+01,  6.39697337e+01],\n",
       "       [-6.17999118e+01, -5.66868386e+01],\n",
       "       [-2.18831678e+01, -2.86191825e+01],\n",
       "       [ 3.40856582e+01, -1.19538619e+01],\n",
       "       [-1.75994017e+01,  3.01920764e+01],\n",
       "       [ 1.87164266e+01, -3.09825000e+01],\n",
       "       [ 1.44598843e+00, -4.36382619e+01],\n",
       "       [ 1.65108735e+01,  3.58737776e+01],\n",
       "       [-3.50417777e+01,  2.57518744e+01],\n",
       "       [ 8.30681661e+01, -2.76426622e+01],\n",
       "       [ 7.52203752e+00,  4.50457172e+00],\n",
       "       [-4.59521873e+01,  3.37179747e+01],\n",
       "       [ 3.01829942e+01,  2.56392780e+00],\n",
       "       [-1.09420632e+01, -3.38576632e+01],\n",
       "       [ 3.66305869e+01, -1.51122588e+01],\n",
       "       [-1.55010163e+00, -4.51925208e+00],\n",
       "       [-3.84555935e+01,  1.47352953e+01],\n",
       "       [ 2.17886716e+01, -1.98051515e+01],\n",
       "       [ 1.79605766e+01,  2.83487720e+01],\n",
       "       [-1.98438519e+01,  5.46764241e+01],\n",
       "       [ 6.23521427e+01,  2.61395200e+01],\n",
       "       [ 3.06047147e+01,  5.33861241e+01],\n",
       "       [-1.19954015e+01, -4.33950979e+01],\n",
       "       [ 9.29523476e+00,  1.06638337e+01],\n",
       "       [ 6.08522730e+01, -1.07960625e+01],\n",
       "       [ 2.71300610e+01,  4.22539651e+01],\n",
       "       [-1.24774123e+01, -1.51540816e+01],\n",
       "       [-1.72500378e+01, -4.75832014e+01],\n",
       "       [-3.97212556e+01, -2.49691034e+01],\n",
       "       [-2.17853872e+01, -7.78012889e+00],\n",
       "       [-5.06989694e+01, -2.66518742e+01],\n",
       "       [-4.38243478e+01,  2.38423652e+01],\n",
       "       [ 3.00190413e+01, -1.30636049e+00],\n",
       "       [ 3.56805850e+01, -3.32125172e+01],\n",
       "       [-3.05354004e+01,  2.68146667e+01],\n",
       "       [-3.89651075e+01, -3.42364780e+01],\n",
       "       [ 4.69660558e+01, -1.99628476e+01],\n",
       "       [-1.54588105e+01,  6.10614557e+00],\n",
       "       [-7.03328211e+01,  4.07112500e+01],\n",
       "       [-2.69825748e+01, -4.56752233e+00],\n",
       "       [-5.14100158e+01, -3.98431171e+01],\n",
       "       [-2.66464907e+00, -4.06223939e+01],\n",
       "       [ 3.14971589e+01, -2.95756032e+01],\n",
       "       [ 5.59664153e+01, -1.37928902e+01],\n",
       "       [-1.25482821e+01, -1.43425970e+01],\n",
       "       [ 1.69496839e-01,  1.20554893e+01],\n",
       "       [ 8.90542568e+00, -1.50561356e+00],\n",
       "       [-3.73193606e+01, -1.76986407e+01],\n",
       "       [-4.80545234e+01, -4.05537043e+01],\n",
       "       [ 4.73649209e+01, -1.18857971e+01],\n",
       "       [ 1.23866101e+01,  2.76471751e+01],\n",
       "       [ 5.67076361e+01,  3.90465627e+01],\n",
       "       [ 8.05289841e+00,  3.30144445e+01],\n",
       "       [-8.78073998e+01,  1.55748869e+01],\n",
       "       [-3.38942587e+01,  3.43275421e+01],\n",
       "       [-7.44719690e+00, -2.74031401e+01],\n",
       "       [-1.36165993e+01, -1.88355808e+01],\n",
       "       [ 8.35139204e+01,  2.45308278e+01],\n",
       "       [ 5.49907097e+01, -1.80748500e+00],\n",
       "       [-9.82054474e+01,  3.32737397e+01],\n",
       "       [ 1.92209812e+01,  5.63847086e+01],\n",
       "       [ 1.41626991e+01, -5.13454921e+01],\n",
       "       [-4.13584351e+01,  5.80244244e+01],\n",
       "       [-6.74602175e+00,  1.92134964e-01],\n",
       "       [-1.95697691e+01,  7.29196368e+00],\n",
       "       [ 2.64059504e+01, -2.44271479e+01],\n",
       "       [ 1.06257273e+02,  2.33541734e+01],\n",
       "       [-8.08772153e+01,  4.85175806e+01],\n",
       "       [-1.19689453e+02, -3.01864484e+01],\n",
       "       [-2.52270348e+01, -1.89991503e+01],\n",
       "       [-1.73331215e+01, -1.42710047e+01],\n",
       "       [-8.56790739e+00,  1.04716905e+01],\n",
       "       [ 6.23185090e+01,  2.10524125e+00],\n",
       "       [ 3.61605185e+01,  1.13937137e+01],\n",
       "       [-6.71700002e+01, -1.18201440e+00],\n",
       "       [-4.24757265e+01, -1.61874896e+01],\n",
       "       [-5.10725236e+01, -1.87414543e+01],\n",
       "       [ 5.22147380e+01, -3.35976112e+01],\n",
       "       [ 5.12783129e+01,  3.40581377e+01]])"
      ]
     },
     "execution_count": 114,
     "metadata": {},
     "output_type": "execute_result"
    }
   ],
   "source": [
    "from sklearn.model_selection import train_test_split\n",
    "X_train,X_test, y_train,y_test= train_test_split(X_transformed, y_class, test_size=0.3)\n",
    "X_train"
   ]
  },
  {
   "cell_type": "code",
   "execution_count": 115,
   "id": "cadec448",
   "metadata": {},
   "outputs": [],
   "source": [
    "LR=LogisticRegression()"
   ]
  },
  {
   "cell_type": "code",
   "execution_count": 116,
   "id": "ede5afdd",
   "metadata": {},
   "outputs": [
    {
     "data": {
      "text/html": [
       "<style>#sk-container-id-12 {color: black;}#sk-container-id-12 pre{padding: 0;}#sk-container-id-12 div.sk-toggleable {background-color: white;}#sk-container-id-12 label.sk-toggleable__label {cursor: pointer;display: block;width: 100%;margin-bottom: 0;padding: 0.3em;box-sizing: border-box;text-align: center;}#sk-container-id-12 label.sk-toggleable__label-arrow:before {content: \"▸\";float: left;margin-right: 0.25em;color: #696969;}#sk-container-id-12 label.sk-toggleable__label-arrow:hover:before {color: black;}#sk-container-id-12 div.sk-estimator:hover label.sk-toggleable__label-arrow:before {color: black;}#sk-container-id-12 div.sk-toggleable__content {max-height: 0;max-width: 0;overflow: hidden;text-align: left;background-color: #f0f8ff;}#sk-container-id-12 div.sk-toggleable__content pre {margin: 0.2em;color: black;border-radius: 0.25em;background-color: #f0f8ff;}#sk-container-id-12 input.sk-toggleable__control:checked~div.sk-toggleable__content {max-height: 200px;max-width: 100%;overflow: auto;}#sk-container-id-12 input.sk-toggleable__control:checked~label.sk-toggleable__label-arrow:before {content: \"▾\";}#sk-container-id-12 div.sk-estimator input.sk-toggleable__control:checked~label.sk-toggleable__label {background-color: #d4ebff;}#sk-container-id-12 div.sk-label input.sk-toggleable__control:checked~label.sk-toggleable__label {background-color: #d4ebff;}#sk-container-id-12 input.sk-hidden--visually {border: 0;clip: rect(1px 1px 1px 1px);clip: rect(1px, 1px, 1px, 1px);height: 1px;margin: -1px;overflow: hidden;padding: 0;position: absolute;width: 1px;}#sk-container-id-12 div.sk-estimator {font-family: monospace;background-color: #f0f8ff;border: 1px dotted black;border-radius: 0.25em;box-sizing: border-box;margin-bottom: 0.5em;}#sk-container-id-12 div.sk-estimator:hover {background-color: #d4ebff;}#sk-container-id-12 div.sk-parallel-item::after {content: \"\";width: 100%;border-bottom: 1px solid gray;flex-grow: 1;}#sk-container-id-12 div.sk-label:hover label.sk-toggleable__label {background-color: #d4ebff;}#sk-container-id-12 div.sk-serial::before {content: \"\";position: absolute;border-left: 1px solid gray;box-sizing: border-box;top: 0;bottom: 0;left: 50%;z-index: 0;}#sk-container-id-12 div.sk-serial {display: flex;flex-direction: column;align-items: center;background-color: white;padding-right: 0.2em;padding-left: 0.2em;position: relative;}#sk-container-id-12 div.sk-item {position: relative;z-index: 1;}#sk-container-id-12 div.sk-parallel {display: flex;align-items: stretch;justify-content: center;background-color: white;position: relative;}#sk-container-id-12 div.sk-item::before, #sk-container-id-12 div.sk-parallel-item::before {content: \"\";position: absolute;border-left: 1px solid gray;box-sizing: border-box;top: 0;bottom: 0;left: 50%;z-index: -1;}#sk-container-id-12 div.sk-parallel-item {display: flex;flex-direction: column;z-index: 1;position: relative;background-color: white;}#sk-container-id-12 div.sk-parallel-item:first-child::after {align-self: flex-end;width: 50%;}#sk-container-id-12 div.sk-parallel-item:last-child::after {align-self: flex-start;width: 50%;}#sk-container-id-12 div.sk-parallel-item:only-child::after {width: 0;}#sk-container-id-12 div.sk-dashed-wrapped {border: 1px dashed gray;margin: 0 0.4em 0.5em 0.4em;box-sizing: border-box;padding-bottom: 0.4em;background-color: white;}#sk-container-id-12 div.sk-label label {font-family: monospace;font-weight: bold;display: inline-block;line-height: 1.2em;}#sk-container-id-12 div.sk-label-container {text-align: center;}#sk-container-id-12 div.sk-container {/* jupyter's `normalize.less` sets `[hidden] { display: none; }` but bootstrap.min.css set `[hidden] { display: none !important; }` so we also need the `!important` here to be able to override the default hidden behavior on the sphinx rendered scikit-learn.org. See: https://github.com/scikit-learn/scikit-learn/issues/21755 */display: inline-block !important;position: relative;}#sk-container-id-12 div.sk-text-repr-fallback {display: none;}</style><div id=\"sk-container-id-12\" class=\"sk-top-container\"><div class=\"sk-text-repr-fallback\"><pre>LogisticRegression()</pre><b>In a Jupyter environment, please rerun this cell to show the HTML representation or trust the notebook. <br />On GitHub, the HTML representation is unable to render, please try loading this page with nbviewer.org.</b></div><div class=\"sk-container\" hidden><div class=\"sk-item\"><div class=\"sk-estimator sk-toggleable\"><input class=\"sk-toggleable__control sk-hidden--visually\" id=\"sk-estimator-id-12\" type=\"checkbox\" checked><label for=\"sk-estimator-id-12\" class=\"sk-toggleable__label sk-toggleable__label-arrow\">LogisticRegression</label><div class=\"sk-toggleable__content\"><pre>LogisticRegression()</pre></div></div></div></div></div>"
      ],
      "text/plain": [
       "LogisticRegression()"
      ]
     },
     "execution_count": 116,
     "metadata": {},
     "output_type": "execute_result"
    }
   ],
   "source": [
    "LR.fit(X_train,y_train)"
   ]
  },
  {
   "cell_type": "code",
   "execution_count": 117,
   "id": "9ea9b01c",
   "metadata": {},
   "outputs": [],
   "source": [
    "y_predict_LR=LR.predict(X_test)"
   ]
  },
  {
   "cell_type": "code",
   "execution_count": 118,
   "id": "8ca88328",
   "metadata": {},
   "outputs": [
    {
     "data": {
      "text/plain": [
       "array([0, 0, 0, 1, 1, 1, 0, 1, 1, 0, 1, 1, 1, 1, 0, 1, 1, 0, 1, 1, 0, 0,\n",
       "       1, 0, 0, 1, 0, 0, 1, 0, 0, 1, 0, 1, 0, 1, 0, 1, 0, 1, 0, 0, 0, 0,\n",
       "       1, 0, 1, 1, 1, 0, 0, 1, 1, 0, 1, 0, 0, 0, 1, 1, 1, 1, 1, 1, 0, 1,\n",
       "       1, 0, 0, 0, 0, 1, 0, 1, 0, 1, 1, 0, 0, 1, 0, 0, 0, 0, 0, 0, 1, 0,\n",
       "       1, 1, 0], dtype=int64)"
      ]
     },
     "execution_count": 118,
     "metadata": {},
     "output_type": "execute_result"
    }
   ],
   "source": [
    "y_predict_LR"
   ]
  },
  {
   "cell_type": "code",
   "execution_count": 119,
   "id": "7db224fa",
   "metadata": {},
   "outputs": [
    {
     "data": {
      "image/png": "[encoded data removed]",
      "text/plain": [
       "<Figure size 640x480 with 1 Axes>"
      ]
     },
     "metadata": {},
     "output_type": "display_data"
    }
   ],
   "source": [
    "plt.scatter(X_train[:, 0], X_train[:, 1], c=y_train)\n",
    "plt.xlabel('X1')\n",
    "plt.ylabel('X2')\n",
    "plt.show()"
   ]
  },
  {
   "cell_type": "code",
   "execution_count": 120,
   "id": "145f874e",
   "metadata": {},
   "outputs": [
    {
     "data": {
      "image/png": "[encoded data removed]",
      "text/plain": [
       "<Figure size 640x480 with 1 Axes>"
      ]
     },
     "metadata": {},
     "output_type": "display_data"
    }
   ],
   "source": [
    "plt.scatter(X_test[:, 0], X_test[:, 1], c=y_predict_LR)\n",
    "plt.xlabel('X1')\n",
    "plt.ylabel('X2')\n",
    "plt.show()"
   ]
  },
  {
   "cell_type": "code",
   "execution_count": 121,
   "id": "0736e0a0",
   "metadata": {},
   "outputs": [],
   "source": [
    "from sklearn import metrics"
   ]
  },
  {
   "cell_type": "code",
   "execution_count": 123,
   "id": "edd03440",
   "metadata": {},
   "outputs": [
    {
     "data": {
      "text/plain": [
       "array([[35, 12],\n",
       "       [12, 32]], dtype=int64)"
      ]
     },
     "execution_count": 123,
     "metadata": {},
     "output_type": "execute_result"
    }
   ],
   "source": [
    "conf_matrix_LR=metrics.confusion_matrix(y_test,y_predict_LR)\n",
    "conf_matrix_LR"
   ]
  },
  {
   "cell_type": "code",
   "execution_count": 124,
   "id": "e9b17c11",
   "metadata": {},
   "outputs": [
    {
     "data": {
      "text/plain": [
       "Text(0.5, 427.9555555555555, 'Predicted label')"
      ]
     },
     "execution_count": 124,
     "metadata": {},
     "output_type": "execute_result"
    },
    {
     "data": {
      "image/png": "[encoded data removed]",
      "text/plain": [
       "<Figure size 640x480 with 2 Axes>"
      ]
     },
     "metadata": {},
     "output_type": "display_data"
    }
   ],
   "source": [
    "class_names=[0,1] # name  of classes\n",
    "fig, ax = plt.subplots()\n",
    "tick_marks = np.arange(len(class_names))\n",
    "plt.xticks(tick_marks, class_names)\n",
    "plt.yticks(tick_marks, class_names)\n",
    "# create heatmap\n",
    "sns.heatmap(pd.DataFrame(conf_matrix_LR), annot=True, cmap=\"YlGnBu\" ,fmt='g')\n",
    "ax.xaxis.set_label_position(\"top\")\n",
    "plt.tight_layout()\n",
    "plt.title('Confusion matrix', y=1.1)\n",
    "plt.ylabel('Actual label')\n",
    "plt.xlabel('Predicted label')"
   ]
  },
  {
   "cell_type": "code",
   "execution_count": 125,
   "id": "cb1bf0d1",
   "metadata": {},
   "outputs": [],
   "source": [
    "TP_LR, TN_LR, FP_LR,FN_LR= conf_matrix_LR[0][0], conf_matrix_LR[1][1], conf_matrix_LR[1][0],conf_matrix_LR[0][1]"
   ]
  },
  {
   "cell_type": "code",
   "execution_count": 126,
   "id": "db3777da",
   "metadata": {},
   "outputs": [
    {
     "data": {
      "text/plain": [
       "(35, 32, 12, 12)"
      ]
     },
     "execution_count": 126,
     "metadata": {},
     "output_type": "execute_result"
    }
   ],
   "source": [
    "TP_LR, TN_LR, FP_LR, FN_LR"
   ]
  },
  {
   "cell_type": "code",
   "execution_count": 127,
   "id": "d8f46a33",
   "metadata": {},
   "outputs": [
    {
     "name": "stdout",
     "output_type": "stream",
     "text": [
      "0.7362637362637363 0.7272727272727273 0.7446808510638298 0.7446808510638298\n"
     ]
    }
   ],
   "source": [
    "accuracy_LR=(TP_LR+TN_LR)/(TP_LR+TN_LR+FP_LR+FN_LR)\n",
    "specificity_LR=(TN_LR)/(TN_LR+FP_LR)\n",
    "precision_LR = TP_LR/(TP_LR+FP_LR)\n",
    "recall_LR=TP_LR/(TP_LR+FN_LR)\n",
    "print(accuracy_LR, specificity_LR, precision_LR,recall_LR)"
   ]
  },
  {
   "cell_type": "code",
   "execution_count": 128,
   "id": "43bd0681",
   "metadata": {},
   "outputs": [],
   "source": [
    "from sklearn.discriminant_analysis import LinearDiscriminantAnalysis as LDA"
   ]
  },
  {
   "cell_type": "code",
   "execution_count": 129,
   "id": "2a2fd872",
   "metadata": {},
   "outputs": [],
   "source": [
    "lda = LDA()"
   ]
  },
  {
   "cell_type": "code",
   "execution_count": 130,
   "id": "a49626b6",
   "metadata": {},
   "outputs": [
    {
     "data": {
      "text/html": [
       "<style>#sk-container-id-13 {color: black;}#sk-container-id-13 pre{padding: 0;}#sk-container-id-13 div.sk-toggleable {background-color: white;}#sk-container-id-13 label.sk-toggleable__label {cursor: pointer;display: block;width: 100%;margin-bottom: 0;padding: 0.3em;box-sizing: border-box;text-align: center;}#sk-container-id-13 label.sk-toggleable__label-arrow:before {content: \"▸\";float: left;margin-right: 0.25em;color: #696969;}#sk-container-id-13 label.sk-toggleable__label-arrow:hover:before {color: black;}#sk-container-id-13 div.sk-estimator:hover label.sk-toggleable__label-arrow:before {color: black;}#sk-container-id-13 div.sk-toggleable__content {max-height: 0;max-width: 0;overflow: hidden;text-align: left;background-color: #f0f8ff;}#sk-container-id-13 div.sk-toggleable__content pre {margin: 0.2em;color: black;border-radius: 0.25em;background-color: #f0f8ff;}#sk-container-id-13 input.sk-toggleable__control:checked~div.sk-toggleable__content {max-height: 200px;max-width: 100%;overflow: auto;}#sk-container-id-13 input.sk-toggleable__control:checked~label.sk-toggleable__label-arrow:before {content: \"▾\";}#sk-container-id-13 div.sk-estimator input.sk-toggleable__control:checked~label.sk-toggleable__label {background-color: #d4ebff;}#sk-container-id-13 div.sk-label input.sk-toggleable__control:checked~label.sk-toggleable__label {background-color: #d4ebff;}#sk-container-id-13 input.sk-hidden--visually {border: 0;clip: rect(1px 1px 1px 1px);clip: rect(1px, 1px, 1px, 1px);height: 1px;margin: -1px;overflow: hidden;padding: 0;position: absolute;width: 1px;}#sk-container-id-13 div.sk-estimator {font-family: monospace;background-color: #f0f8ff;border: 1px dotted black;border-radius: 0.25em;box-sizing: border-box;margin-bottom: 0.5em;}#sk-container-id-13 div.sk-estimator:hover {background-color: #d4ebff;}#sk-container-id-13 div.sk-parallel-item::after {content: \"\";width: 100%;border-bottom: 1px solid gray;flex-grow: 1;}#sk-container-id-13 div.sk-label:hover label.sk-toggleable__label {background-color: #d4ebff;}#sk-container-id-13 div.sk-serial::before {content: \"\";position: absolute;border-left: 1px solid gray;box-sizing: border-box;top: 0;bottom: 0;left: 50%;z-index: 0;}#sk-container-id-13 div.sk-serial {display: flex;flex-direction: column;align-items: center;background-color: white;padding-right: 0.2em;padding-left: 0.2em;position: relative;}#sk-container-id-13 div.sk-item {position: relative;z-index: 1;}#sk-container-id-13 div.sk-parallel {display: flex;align-items: stretch;justify-content: center;background-color: white;position: relative;}#sk-container-id-13 div.sk-item::before, #sk-container-id-13 div.sk-parallel-item::before {content: \"\";position: absolute;border-left: 1px solid gray;box-sizing: border-box;top: 0;bottom: 0;left: 50%;z-index: -1;}#sk-container-id-13 div.sk-parallel-item {display: flex;flex-direction: column;z-index: 1;position: relative;background-color: white;}#sk-container-id-13 div.sk-parallel-item:first-child::after {align-self: flex-end;width: 50%;}#sk-container-id-13 div.sk-parallel-item:last-child::after {align-self: flex-start;width: 50%;}#sk-container-id-13 div.sk-parallel-item:only-child::after {width: 0;}#sk-container-id-13 div.sk-dashed-wrapped {border: 1px dashed gray;margin: 0 0.4em 0.5em 0.4em;box-sizing: border-box;padding-bottom: 0.4em;background-color: white;}#sk-container-id-13 div.sk-label label {font-family: monospace;font-weight: bold;display: inline-block;line-height: 1.2em;}#sk-container-id-13 div.sk-label-container {text-align: center;}#sk-container-id-13 div.sk-container {/* jupyter's `normalize.less` sets `[hidden] { display: none; }` but bootstrap.min.css set `[hidden] { display: none !important; }` so we also need the `!important` here to be able to override the default hidden behavior on the sphinx rendered scikit-learn.org. See: https://github.com/scikit-learn/scikit-learn/issues/21755 */display: inline-block !important;position: relative;}#sk-container-id-13 div.sk-text-repr-fallback {display: none;}</style><div id=\"sk-container-id-13\" class=\"sk-top-container\"><div class=\"sk-text-repr-fallback\"><pre>LinearDiscriminantAnalysis()</pre><b>In a Jupyter environment, please rerun this cell to show the HTML representation or trust the notebook. <br />On GitHub, the HTML representation is unable to render, please try loading this page with nbviewer.org.</b></div><div class=\"sk-container\" hidden><div class=\"sk-item\"><div class=\"sk-estimator sk-toggleable\"><input class=\"sk-toggleable__control sk-hidden--visually\" id=\"sk-estimator-id-13\" type=\"checkbox\" checked><label for=\"sk-estimator-id-13\" class=\"sk-toggleable__label sk-toggleable__label-arrow\">LinearDiscriminantAnalysis</label><div class=\"sk-toggleable__content\"><pre>LinearDiscriminantAnalysis()</pre></div></div></div></div></div>"
      ],
      "text/plain": [
       "LinearDiscriminantAnalysis()"
      ]
     },
     "execution_count": 130,
     "metadata": {},
     "output_type": "execute_result"
    }
   ],
   "source": [
    "lda.fit(X_train,y_train)"
   ]
  },
  {
   "cell_type": "code",
   "execution_count": 132,
   "id": "a6d3bcb4",
   "metadata": {},
   "outputs": [
    {
     "data": {
      "text/plain": [
       "array([0, 0, 0, 1, 1, 1, 0, 1, 1, 0, 1, 1, 1, 1, 0, 0, 1, 0, 1, 1, 0, 0,\n",
       "       1, 0, 0, 1, 0, 0, 0, 0, 0, 1, 0, 1, 0, 1, 0, 1, 0, 1, 0, 0, 0, 0,\n",
       "       1, 0, 1, 1, 1, 0, 0, 1, 1, 0, 1, 0, 0, 0, 1, 1, 1, 1, 1, 1, 0, 1,\n",
       "       1, 0, 0, 0, 0, 1, 0, 1, 0, 1, 1, 0, 0, 1, 0, 0, 0, 0, 0, 0, 1, 0,\n",
       "       1, 1, 0], dtype=int64)"
      ]
     },
     "execution_count": 132,
     "metadata": {},
     "output_type": "execute_result"
    }
   ],
   "source": [
    "y_predict_lda=lda.predict(X_test)\n",
    "y_predict_lda"
   ]
  },
  {
   "cell_type": "code",
   "execution_count": 133,
   "id": "b04a5a1a",
   "metadata": {},
   "outputs": [
    {
     "data": {
      "text/plain": [
       "array([[36, 11],\n",
       "       [13, 31]], dtype=int64)"
      ]
     },
     "execution_count": 133,
     "metadata": {},
     "output_type": "execute_result"
    }
   ],
   "source": [
    "conf_matrix_LDA=metrics.confusion_matrix(y_test,y_predict_lda)\n",
    "conf_matrix_LDA"
   ]
  },
  {
   "cell_type": "code",
   "execution_count": 134,
   "id": "f158691c",
   "metadata": {},
   "outputs": [
    {
     "data": {
      "text/plain": [
       "Text(0.5, 427.9555555555555, 'Predicted label')"
      ]
     },
     "execution_count": 134,
     "metadata": {},
     "output_type": "execute_result"
    },
    {
     "data": {
      "image/png": "[encoded data removed]",
      "text/plain": [
       "<Figure size 640x480 with 2 Axes>"
      ]
     },
     "metadata": {},
     "output_type": "display_data"
    }
   ],
   "source": [
    "class_names=[0,1] # name  of classes\n",
    "fig, ax = plt.subplots()\n",
    "tick_marks = np.arange(len(class_names))\n",
    "plt.xticks(tick_marks, class_names)\n",
    "plt.yticks(tick_marks, class_names)\n",
    "# create heatmap\n",
    "sns.heatmap(pd.DataFrame(conf_matrix_LDA), annot=True, cmap=\"YlGnBu\" ,fmt='g')\n",
    "ax.xaxis.set_label_position(\"top\")\n",
    "plt.tight_layout()\n",
    "plt.title('Confusion matrix', y=1.1)\n",
    "plt.ylabel('Actual label')\n",
    "plt.xlabel('Predicted label')"
   ]
  },
  {
   "cell_type": "code",
   "execution_count": 135,
   "id": "e2b0b631",
   "metadata": {},
   "outputs": [],
   "source": [
    "TP_LDA, TN_LDA, FP_LDA,FN_LDA= conf_matrix_LDA[0][0], conf_matrix_LDA[1][1], conf_matrix_LDA[1][0],conf_matrix_LDA[0][1]"
   ]
  },
  {
   "cell_type": "code",
   "execution_count": 136,
   "id": "cecf488a",
   "metadata": {},
   "outputs": [
    {
     "data": {
      "text/plain": [
       "(36, 31, 13, 11)"
      ]
     },
     "execution_count": 136,
     "metadata": {},
     "output_type": "execute_result"
    }
   ],
   "source": [
    "TP_LDA, TN_LDA, FP_LDA,FN_LDA"
   ]
  },
  {
   "cell_type": "code",
   "execution_count": 137,
   "id": "4af39445",
   "metadata": {},
   "outputs": [
    {
     "name": "stdout",
     "output_type": "stream",
     "text": [
      "0.7362637362637363 0.7045454545454546 0.7346938775510204 0.7659574468085106\n"
     ]
    }
   ],
   "source": [
    "accuracy_LDA=(TP_LDA+TN_LDA)/(TP_LDA+TN_LDA+FP_LDA+FN_LDA)\n",
    "specificity_LDA=(TN_LDA)/(TN_LDA+FP_LDA)\n",
    "precision_LDA = TP_LDA/(TP_LDA+FP_LDA)\n",
    "recall_LDA=TP_LDA/(TP_LDA+FN_LDA)\n",
    "print(accuracy_LDA, specificity_LDA, precision_LDA,recall_LDA)"
   ]
  },
  {
   "cell_type": "code",
   "execution_count": 142,
   "id": "9db2847b",
   "metadata": {},
   "outputs": [],
   "source": [
    "Cs = [0.001, 0.01, 0.1, 1, 10]\n",
    "LRCV = LogisticRegressionCV(Cs=Cs)"
   ]
  },
  {
   "cell_type": "code",
   "execution_count": 143,
   "id": "404d9879",
   "metadata": {},
   "outputs": [
    {
     "data": {
      "text/html": [
       "<style>#sk-container-id-15 {color: black;}#sk-container-id-15 pre{padding: 0;}#sk-container-id-15 div.sk-toggleable {background-color: white;}#sk-container-id-15 label.sk-toggleable__label {cursor: pointer;display: block;width: 100%;margin-bottom: 0;padding: 0.3em;box-sizing: border-box;text-align: center;}#sk-container-id-15 label.sk-toggleable__label-arrow:before {content: \"▸\";float: left;margin-right: 0.25em;color: #696969;}#sk-container-id-15 label.sk-toggleable__label-arrow:hover:before {color: black;}#sk-container-id-15 div.sk-estimator:hover label.sk-toggleable__label-arrow:before {color: black;}#sk-container-id-15 div.sk-toggleable__content {max-height: 0;max-width: 0;overflow: hidden;text-align: left;background-color: #f0f8ff;}#sk-container-id-15 div.sk-toggleable__content pre {margin: 0.2em;color: black;border-radius: 0.25em;background-color: #f0f8ff;}#sk-container-id-15 input.sk-toggleable__control:checked~div.sk-toggleable__content {max-height: 200px;max-width: 100%;overflow: auto;}#sk-container-id-15 input.sk-toggleable__control:checked~label.sk-toggleable__label-arrow:before {content: \"▾\";}#sk-container-id-15 div.sk-estimator input.sk-toggleable__control:checked~label.sk-toggleable__label {background-color: #d4ebff;}#sk-container-id-15 div.sk-label input.sk-toggleable__control:checked~label.sk-toggleable__label {background-color: #d4ebff;}#sk-container-id-15 input.sk-hidden--visually {border: 0;clip: rect(1px 1px 1px 1px);clip: rect(1px, 1px, 1px, 1px);height: 1px;margin: -1px;overflow: hidden;padding: 0;position: absolute;width: 1px;}#sk-container-id-15 div.sk-estimator {font-family: monospace;background-color: #f0f8ff;border: 1px dotted black;border-radius: 0.25em;box-sizing: border-box;margin-bottom: 0.5em;}#sk-container-id-15 div.sk-estimator:hover {background-color: #d4ebff;}#sk-container-id-15 div.sk-parallel-item::after {content: \"\";width: 100%;border-bottom: 1px solid gray;flex-grow: 1;}#sk-container-id-15 div.sk-label:hover label.sk-toggleable__label {background-color: #d4ebff;}#sk-container-id-15 div.sk-serial::before {content: \"\";position: absolute;border-left: 1px solid gray;box-sizing: border-box;top: 0;bottom: 0;left: 50%;z-index: 0;}#sk-container-id-15 div.sk-serial {display: flex;flex-direction: column;align-items: center;background-color: white;padding-right: 0.2em;padding-left: 0.2em;position: relative;}#sk-container-id-15 div.sk-item {position: relative;z-index: 1;}#sk-container-id-15 div.sk-parallel {display: flex;align-items: stretch;justify-content: center;background-color: white;position: relative;}#sk-container-id-15 div.sk-item::before, #sk-container-id-15 div.sk-parallel-item::before {content: \"\";position: absolute;border-left: 1px solid gray;box-sizing: border-box;top: 0;bottom: 0;left: 50%;z-index: -1;}#sk-container-id-15 div.sk-parallel-item {display: flex;flex-direction: column;z-index: 1;position: relative;background-color: white;}#sk-container-id-15 div.sk-parallel-item:first-child::after {align-self: flex-end;width: 50%;}#sk-container-id-15 div.sk-parallel-item:last-child::after {align-self: flex-start;width: 50%;}#sk-container-id-15 div.sk-parallel-item:only-child::after {width: 0;}#sk-container-id-15 div.sk-dashed-wrapped {border: 1px dashed gray;margin: 0 0.4em 0.5em 0.4em;box-sizing: border-box;padding-bottom: 0.4em;background-color: white;}#sk-container-id-15 div.sk-label label {font-family: monospace;font-weight: bold;display: inline-block;line-height: 1.2em;}#sk-container-id-15 div.sk-label-container {text-align: center;}#sk-container-id-15 div.sk-container {/* jupyter's `normalize.less` sets `[hidden] { display: none; }` but bootstrap.min.css set `[hidden] { display: none !important; }` so we also need the `!important` here to be able to override the default hidden behavior on the sphinx rendered scikit-learn.org. See: https://github.com/scikit-learn/scikit-learn/issues/21755 */display: inline-block !important;position: relative;}#sk-container-id-15 div.sk-text-repr-fallback {display: none;}</style><div id=\"sk-container-id-15\" class=\"sk-top-container\"><div class=\"sk-text-repr-fallback\"><pre>LogisticRegressionCV(Cs=[0.001, 0.01, 0.1, 1, 10])</pre><b>In a Jupyter environment, please rerun this cell to show the HTML representation or trust the notebook. <br />On GitHub, the HTML representation is unable to render, please try loading this page with nbviewer.org.</b></div><div class=\"sk-container\" hidden><div class=\"sk-item\"><div class=\"sk-estimator sk-toggleable\"><input class=\"sk-toggleable__control sk-hidden--visually\" id=\"sk-estimator-id-15\" type=\"checkbox\" checked><label for=\"sk-estimator-id-15\" class=\"sk-toggleable__label sk-toggleable__label-arrow\">LogisticRegressionCV</label><div class=\"sk-toggleable__content\"><pre>LogisticRegressionCV(Cs=[0.001, 0.01, 0.1, 1, 10])</pre></div></div></div></div></div>"
      ],
      "text/plain": [
       "LogisticRegressionCV(Cs=[0.001, 0.01, 0.1, 1, 10])"
      ]
     },
     "execution_count": 143,
     "metadata": {},
     "output_type": "execute_result"
    }
   ],
   "source": [
    "LRCV.fit(X_train, y_train)"
   ]
  },
  {
   "cell_type": "code",
   "execution_count": 144,
   "id": "5c0a5987",
   "metadata": {},
   "outputs": [
    {
     "name": "stdout",
     "output_type": "stream",
     "text": [
      "[0.01]\n"
     ]
    }
   ],
   "source": [
    "best_C = LRCV.C_\n",
    "print(best_C)"
   ]
  },
  {
   "cell_type": "code",
   "execution_count": 145,
   "id": "36a828a9",
   "metadata": {},
   "outputs": [],
   "source": [
    "LR_afterCV=LogisticRegression(C=0.01)"
   ]
  },
  {
   "cell_type": "code",
   "execution_count": 146,
   "id": "0262467d",
   "metadata": {},
   "outputs": [
    {
     "data": {
      "text/html": [
       "<style>#sk-container-id-16 {color: black;}#sk-container-id-16 pre{padding: 0;}#sk-container-id-16 div.sk-toggleable {background-color: white;}#sk-container-id-16 label.sk-toggleable__label {cursor: pointer;display: block;width: 100%;margin-bottom: 0;padding: 0.3em;box-sizing: border-box;text-align: center;}#sk-container-id-16 label.sk-toggleable__label-arrow:before {content: \"▸\";float: left;margin-right: 0.25em;color: #696969;}#sk-container-id-16 label.sk-toggleable__label-arrow:hover:before {color: black;}#sk-container-id-16 div.sk-estimator:hover label.sk-toggleable__label-arrow:before {color: black;}#sk-container-id-16 div.sk-toggleable__content {max-height: 0;max-width: 0;overflow: hidden;text-align: left;background-color: #f0f8ff;}#sk-container-id-16 div.sk-toggleable__content pre {margin: 0.2em;color: black;border-radius: 0.25em;background-color: #f0f8ff;}#sk-container-id-16 input.sk-toggleable__control:checked~div.sk-toggleable__content {max-height: 200px;max-width: 100%;overflow: auto;}#sk-container-id-16 input.sk-toggleable__control:checked~label.sk-toggleable__label-arrow:before {content: \"▾\";}#sk-container-id-16 div.sk-estimator input.sk-toggleable__control:checked~label.sk-toggleable__label {background-color: #d4ebff;}#sk-container-id-16 div.sk-label input.sk-toggleable__control:checked~label.sk-toggleable__label {background-color: #d4ebff;}#sk-container-id-16 input.sk-hidden--visually {border: 0;clip: rect(1px 1px 1px 1px);clip: rect(1px, 1px, 1px, 1px);height: 1px;margin: -1px;overflow: hidden;padding: 0;position: absolute;width: 1px;}#sk-container-id-16 div.sk-estimator {font-family: monospace;background-color: #f0f8ff;border: 1px dotted black;border-radius: 0.25em;box-sizing: border-box;margin-bottom: 0.5em;}#sk-container-id-16 div.sk-estimator:hover {background-color: #d4ebff;}#sk-container-id-16 div.sk-parallel-item::after {content: \"\";width: 100%;border-bottom: 1px solid gray;flex-grow: 1;}#sk-container-id-16 div.sk-label:hover label.sk-toggleable__label {background-color: #d4ebff;}#sk-container-id-16 div.sk-serial::before {content: \"\";position: absolute;border-left: 1px solid gray;box-sizing: border-box;top: 0;bottom: 0;left: 50%;z-index: 0;}#sk-container-id-16 div.sk-serial {display: flex;flex-direction: column;align-items: center;background-color: white;padding-right: 0.2em;padding-left: 0.2em;position: relative;}#sk-container-id-16 div.sk-item {position: relative;z-index: 1;}#sk-container-id-16 div.sk-parallel {display: flex;align-items: stretch;justify-content: center;background-color: white;position: relative;}#sk-container-id-16 div.sk-item::before, #sk-container-id-16 div.sk-parallel-item::before {content: \"\";position: absolute;border-left: 1px solid gray;box-sizing: border-box;top: 0;bottom: 0;left: 50%;z-index: -1;}#sk-container-id-16 div.sk-parallel-item {display: flex;flex-direction: column;z-index: 1;position: relative;background-color: white;}#sk-container-id-16 div.sk-parallel-item:first-child::after {align-self: flex-end;width: 50%;}#sk-container-id-16 div.sk-parallel-item:last-child::after {align-self: flex-start;width: 50%;}#sk-container-id-16 div.sk-parallel-item:only-child::after {width: 0;}#sk-container-id-16 div.sk-dashed-wrapped {border: 1px dashed gray;margin: 0 0.4em 0.5em 0.4em;box-sizing: border-box;padding-bottom: 0.4em;background-color: white;}#sk-container-id-16 div.sk-label label {font-family: monospace;font-weight: bold;display: inline-block;line-height: 1.2em;}#sk-container-id-16 div.sk-label-container {text-align: center;}#sk-container-id-16 div.sk-container {/* jupyter's `normalize.less` sets `[hidden] { display: none; }` but bootstrap.min.css set `[hidden] { display: none !important; }` so we also need the `!important` here to be able to override the default hidden behavior on the sphinx rendered scikit-learn.org. See: https://github.com/scikit-learn/scikit-learn/issues/21755 */display: inline-block !important;position: relative;}#sk-container-id-16 div.sk-text-repr-fallback {display: none;}</style><div id=\"sk-container-id-16\" class=\"sk-top-container\"><div class=\"sk-text-repr-fallback\"><pre>LogisticRegression(C=0.01)</pre><b>In a Jupyter environment, please rerun this cell to show the HTML representation or trust the notebook. <br />On GitHub, the HTML representation is unable to render, please try loading this page with nbviewer.org.</b></div><div class=\"sk-container\" hidden><div class=\"sk-item\"><div class=\"sk-estimator sk-toggleable\"><input class=\"sk-toggleable__control sk-hidden--visually\" id=\"sk-estimator-id-16\" type=\"checkbox\" checked><label for=\"sk-estimator-id-16\" class=\"sk-toggleable__label sk-toggleable__label-arrow\">LogisticRegression</label><div class=\"sk-toggleable__content\"><pre>LogisticRegression(C=0.01)</pre></div></div></div></div></div>"
      ],
      "text/plain": [
       "LogisticRegression(C=0.01)"
      ]
     },
     "execution_count": 146,
     "metadata": {},
     "output_type": "execute_result"
    }
   ],
   "source": [
    "LR_afterCV.fit(X_train,y_train)"
   ]
  },
  {
   "cell_type": "code",
   "execution_count": 147,
   "id": "af221ee0",
   "metadata": {},
   "outputs": [
    {
     "data": {
      "text/plain": [
       "array([0, 0, 0, 1, 1, 1, 0, 1, 1, 0, 1, 1, 1, 1, 0, 1, 1, 0, 1, 1, 0, 0,\n",
       "       1, 0, 0, 1, 0, 0, 1, 0, 0, 1, 0, 1, 0, 1, 0, 1, 0, 1, 0, 0, 0, 0,\n",
       "       1, 0, 1, 1, 1, 0, 0, 1, 1, 0, 1, 0, 0, 0, 1, 1, 1, 1, 1, 1, 0, 1,\n",
       "       1, 0, 0, 0, 0, 1, 0, 1, 0, 1, 1, 0, 0, 1, 0, 0, 0, 0, 0, 0, 1, 0,\n",
       "       1, 1, 0], dtype=int64)"
      ]
     },
     "execution_count": 147,
     "metadata": {},
     "output_type": "execute_result"
    }
   ],
   "source": [
    "y_predict_LRCV=LR_afterCV.predict(X_test)\n",
    "y_predict_LRCV"
   ]
  },
  {
   "cell_type": "code",
   "execution_count": 148,
   "id": "026fe830",
   "metadata": {},
   "outputs": [
    {
     "data": {
      "text/plain": [
       "array([[35, 12],\n",
       "       [12, 32]], dtype=int64)"
      ]
     },
     "execution_count": 148,
     "metadata": {},
     "output_type": "execute_result"
    }
   ],
   "source": [
    "conf_matrix_LRCV=metrics.confusion_matrix(y_test,y_predict_LRCV)\n",
    "conf_matrix_LRCV"
   ]
  },
  {
   "cell_type": "code",
   "execution_count": 151,
   "id": "a3e7bd24",
   "metadata": {},
   "outputs": [],
   "source": [
    "TP_CV, TN_CV, FP_CV,FN_CV= conf_matrix_LRCV[0][0], conf_matrix_LRCV[1][1], conf_matrix_LRCV[1][0],conf_matrix_LRCV[0][1]"
   ]
  },
  {
   "cell_type": "code",
   "execution_count": 152,
   "id": "d31fe802",
   "metadata": {},
   "outputs": [
    {
     "data": {
      "text/plain": [
       "(35, 32, 12, 12)"
      ]
     },
     "execution_count": 152,
     "metadata": {},
     "output_type": "execute_result"
    }
   ],
   "source": [
    "TP_CV, TN_CV, FP_CV,FN_CV"
   ]
  },
  {
   "cell_type": "code",
   "execution_count": 153,
   "id": "5a79b7d1",
   "metadata": {},
   "outputs": [
    {
     "name": "stdout",
     "output_type": "stream",
     "text": [
      "0.7362637362637363 0.7272727272727273 0.7446808510638298 0.7446808510638298\n"
     ]
    }
   ],
   "source": [
    "accuracy_CV=(TP_CV+TN_CV)/(TP_CV+TN_CV+FP_CV+FN_CV)\n",
    "specificity_CV=(TN_CV)/(TN_CV+FP_CV)\n",
    "precision_CV = TP_CV/(TP_CV+FP_CV)\n",
    "recall_CV=TP_CV/(TP_CV+FN_CV)\n",
    "print(accuracy_CV, specificity_CV, precision_CV,recall_CV)"
   ]
  },
  {
   "cell_type": "code",
   "execution_count": null,
   "id": "64cde202",
   "metadata": {},
   "outputs": [],
   "source": [
    "#Ninguno de los tres métodos performa significativamente mejor que el otro (las 4 medidas están a menos de en el orden de magnitud de décimo de porcentaje). Realmente no sé por qué se da esto, imagino porque el Dataset es relativamente simple."
   ]
  }
 ],
 "metadata": {
  "kernelspec": {
   "display_name": "Python 3 (ipykernel)",
   "language": "python",
   "name": "python3"
  },
  "language_info": {
   "codemirror_mode": {
    "name": "ipython",
    "version": 3
   },
   "file_extension": ".py",
   "mimetype": "text/x-python",
   "name": "python",
   "nbconvert_exporter": "python",
   "pygments_lexer": "ipython3",
   "version": "3.11.4"
  },
  "vscode": {
   "interpreter": {
    "hash": "23cb2388443d556543181094e3ae896af451ee7d366981f58b81df73afb487db"
   }
  }
 },
 "nbformat": 4,
 "nbformat_minor": 5
}
